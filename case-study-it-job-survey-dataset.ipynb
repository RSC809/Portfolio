{
 "cells": [
  {
   "cell_type": "markdown",
   "id": "ddf3c476",
   "metadata": {
    "papermill": {
     "duration": 0.019551,
     "end_time": "2023-03-24T23:45:36.267346",
     "exception": false,
     "start_time": "2023-03-24T23:45:36.247795",
     "status": "completed"
    },
    "tags": []
   },
   "source": [
    "# Business Task\n",
    "\n",
    "Our Task is to examine survey data from IT jobs to find crucial trends in well-liked programming languages, databases, platforms, and web frameworks in order to keep on top of the most recent developments in software development. We will also look at the poll respondents' demographics, including their gender, location, age, and level of formal education. This will ensure that we are able to meet the needs of potential clients and help us make decisions regarding the technology and tools to employ in our projects.\n",
    "\n",
    "We specifically want to respond to the following queries:\n",
    "\n",
    "- What are the most widely used platforms, databases, web frameworks, and programming languages among developers?\n",
    "\n",
    "- Whats are some of the respondents' characteristics?\n",
    "\n",
    "- Are there any new trends or technology that we need to be aware of?\n",
    "\n",
    "- What do the survey's results tell us about the state of software development today and in the years to come?\n",
    "\n",
    "We will be able to make educated judgments regarding which technologies to invest in, which talents to emphasize training programs, and which markets to target with our software solutions based on the analysis of this survey data."
   ]
  },
  {
   "cell_type": "markdown",
   "id": "2415a2d9",
   "metadata": {
    "papermill": {
     "duration": 0.019169,
     "end_time": "2023-03-24T23:45:36.305513",
     "exception": false,
     "start_time": "2023-03-24T23:45:36.286344",
     "status": "completed"
    },
    "tags": []
   },
   "source": [
    "# Description of Data Source\n",
    "\n",
    "The primary data source for this project is survey datase, containing information on tech jobs, available on the IBM Cloud which can be found at \"https://cf-courses-data.s3.us.cloud-object-storage.appdomain.cloud/IBM-DA0321EN-SkillsNetwork/LargeData/m1_survey_data.csv\". The survey contains columns such as:\n",
    "\n",
    "- OpenSource: A binary column indicating whether the respondent contributes to open source projects or not.\n",
    "- Student: A binary column indicating whether the respondent is a student or not.\n",
    "- EdLevel: A categorical column indicating the highest level of education completed by the respondent.\n",
    "- UndergradMajor: A categorical column indicating the respondent's undergraduate major.\n",
    "- EduOther: A text column indicating any additional education received by the respondent.\n",
    "- OrgSize: A categorical column indicating the size of the organization where the respondent works.\n",
    "- DevType: A multi-select column indicating the type(s) of development work done by the respondent.\n",
    "- YearsCode: A numerical column indicating the number of years the respondent has been coding.\n",
    "- Age1stCode: A numerical column indicating the age at which the respondent started coding.\n",
    "- YearsCodePro: A numerical column indicating the number of years the respondent has been coding professionally.\n",
    "- JobSat: A categorical column indicating the respondent's job satisfaction.\n",
    "- MgrIdiot: A categorical column indicating the respondent's opinion of their manager's competence.\n",
    "- MgrMoney: A categorical column indicating the respondent's opinion of their manager's emphasis on money over people.\n",
    "- MgrWant: A categorical column indicating the respondent's opinion of their manager's desire for success at all costs.\n",
    "- LastInt: A categorical column indicating the year of the respondent's most recent job interview.\n",
    "- FizzBuzz: A binary column indicating whether the respondent can solve the FizzBuzz problem or not.\n",
    "- JobFactors: A multi-select column indicating the factors that are important to the respondent in their job.\n",
    "- ResumeUpdate: A categorical column indicating the frequency with which the respondent updates their resume.\n",
    "- CompTotal: A numerical column indicating the respondent's annual compensation.\n",
    "- CompFreq: A categorical column indicating the frequency with which the respondent is compensated.\n",
    "- ConvertedComp: A numerical column indicating the respondent's annual compensation converted to US dollars.\n",
    "- WorkWeekHrs: A numerical column indicating the number of hours the respondent works per week.\n",
    "- WorkPlan: A categorical column indicating the degree to which the respondent's work is planned in advance.\n",
    "- WorkChallenge: A multi-select column indicating the challenges faced by the respondent in their work.\n",
    "- WorkRemote: A categorical column indicating the degree to which the respondent works remotely.\n",
    "- WorkLoc: A categorical column indicating the respondent's work location.\n",
    "- ImpSyn: A categorical column indicating the importance the respondent places on writing maintainable code.\n",
    "- CodeRev: A binary column indicating whether the respondent reviews code written by others or not.\n",
    "- CodeRevHrs: A numerical column indicating the number of hours per month the respondent spends reviewing code written by others.\n",
    "- UnitTests: A binary column indicating whether the respondent writes unit tests or not.\n",
    "- PurchaseHow: A categorical column indicating the process by which the respondent acquires software and hardware for work.\n",
    "- PurchaseWhat: A multi-select column indicating the types of software and hardware purchased by the respondent for work.\n",
    "- LanguageWorkedWith: A multi-select column indicating the programming languages the respondent has worked with in the past year.\n",
    "- LanguageDesireNextYear: A multi-select column indicating the programming languages the respondent would like to work with in the next year.\n",
    "- DatabaseWorkedWith: A multi-select column indicating the databases the respondent has worked with in the past year.\n",
    "- DatabaseDesireNextYear: A multi-select column indicating the databases the respondent would like to work with in the next year.\n",
    "- PlatformWorkedWith: A multi-select column indicating the platforms the respondent has worked with\n",
    "\n",
    "In total the data set contains 85 columns and 11552 rows"
   ]
  },
  {
   "cell_type": "markdown",
   "id": "cb78f486",
   "metadata": {
    "papermill": {
     "duration": 0.017438,
     "end_time": "2023-03-24T23:45:36.340811",
     "exception": false,
     "start_time": "2023-03-24T23:45:36.323373",
     "status": "completed"
    },
    "tags": []
   },
   "source": [
    "# Data Wrangling"
   ]
  },
  {
   "cell_type": "markdown",
   "id": "45a69540",
   "metadata": {
    "papermill": {
     "duration": 0.017175,
     "end_time": "2023-03-24T23:45:36.375570",
     "exception": false,
     "start_time": "2023-03-24T23:45:36.358395",
     "status": "completed"
    },
    "tags": []
   },
   "source": [
    "### Main Objectives\n",
    "- Identify duplicate values in the dataset.\n",
    "- Remove duplicate values from the dataset.\n",
    "- Identify missing values in the dataset.\n",
    "- Impute the missing values in the dataset.\n",
    "- Normalize data in the dataset."
   ]
  },
  {
   "cell_type": "code",
   "execution_count": 1,
   "id": "55e60b96",
   "metadata": {
    "execution": {
     "iopub.execute_input": "2023-03-24T23:45:36.412461Z",
     "iopub.status.busy": "2023-03-24T23:45:36.411913Z",
     "iopub.status.idle": "2023-03-24T23:45:36.422324Z",
     "shell.execute_reply": "2023-03-24T23:45:36.421219Z"
    },
    "papermill": {
     "duration": 0.031894,
     "end_time": "2023-03-24T23:45:36.424801",
     "exception": false,
     "start_time": "2023-03-24T23:45:36.392907",
     "status": "completed"
    },
    "tags": []
   },
   "outputs": [],
   "source": [
    "# Import pandas module.\n",
    "import pandas as pd"
   ]
  },
  {
   "cell_type": "code",
   "execution_count": 2,
   "id": "25ee4216",
   "metadata": {
    "execution": {
     "iopub.execute_input": "2023-03-24T23:45:36.463646Z",
     "iopub.status.busy": "2023-03-24T23:45:36.463166Z",
     "iopub.status.idle": "2023-03-24T23:45:37.887245Z",
     "shell.execute_reply": "2023-03-24T23:45:37.885605Z"
    },
    "papermill": {
     "duration": 1.448276,
     "end_time": "2023-03-24T23:45:37.891346",
     "exception": false,
     "start_time": "2023-03-24T23:45:36.443070",
     "status": "completed"
    },
    "tags": []
   },
   "outputs": [],
   "source": [
    "# Load the dataset into a dataframe.\n",
    "df = pd.read_csv(\"https://cf-courses-data.s3.us.cloud-object-storage.appdomain.cloud/IBM-DA0321EN-SkillsNetwork/LargeData/m1_survey_data.csv\")"
   ]
  },
  {
   "cell_type": "markdown",
   "id": "70be28a2",
   "metadata": {
    "papermill": {
     "duration": 0.018305,
     "end_time": "2023-03-24T23:45:37.933961",
     "exception": false,
     "start_time": "2023-03-24T23:45:37.915656",
     "status": "completed"
    },
    "tags": []
   },
   "source": [
    "## Dataset Exploration"
   ]
  },
  {
   "cell_type": "code",
   "execution_count": 3,
   "id": "9205d4e3",
   "metadata": {
    "execution": {
     "iopub.execute_input": "2023-03-24T23:45:37.975751Z",
     "iopub.status.busy": "2023-03-24T23:45:37.974851Z",
     "iopub.status.idle": "2023-03-24T23:45:38.040187Z",
     "shell.execute_reply": "2023-03-24T23:45:38.038728Z"
    },
    "papermill": {
     "duration": 0.089612,
     "end_time": "2023-03-24T23:45:38.043021",
     "exception": false,
     "start_time": "2023-03-24T23:45:37.953409",
     "status": "completed"
    },
    "tags": []
   },
   "outputs": [
    {
     "data": {
      "text/html": [
       "<div>\n",
       "<style scoped>\n",
       "    .dataframe tbody tr th:only-of-type {\n",
       "        vertical-align: middle;\n",
       "    }\n",
       "\n",
       "    .dataframe tbody tr th {\n",
       "        vertical-align: top;\n",
       "    }\n",
       "\n",
       "    .dataframe thead th {\n",
       "        text-align: right;\n",
       "    }\n",
       "</style>\n",
       "<table border=\"1\" class=\"dataframe\">\n",
       "  <thead>\n",
       "    <tr style=\"text-align: right;\">\n",
       "      <th></th>\n",
       "      <th>Respondent</th>\n",
       "      <th>MainBranch</th>\n",
       "      <th>Hobbyist</th>\n",
       "      <th>OpenSourcer</th>\n",
       "      <th>OpenSource</th>\n",
       "      <th>Employment</th>\n",
       "      <th>Country</th>\n",
       "      <th>Student</th>\n",
       "      <th>EdLevel</th>\n",
       "      <th>UndergradMajor</th>\n",
       "      <th>...</th>\n",
       "      <th>WelcomeChange</th>\n",
       "      <th>SONewContent</th>\n",
       "      <th>Age</th>\n",
       "      <th>Gender</th>\n",
       "      <th>Trans</th>\n",
       "      <th>Sexuality</th>\n",
       "      <th>Ethnicity</th>\n",
       "      <th>Dependents</th>\n",
       "      <th>SurveyLength</th>\n",
       "      <th>SurveyEase</th>\n",
       "    </tr>\n",
       "  </thead>\n",
       "  <tbody>\n",
       "    <tr>\n",
       "      <th>0</th>\n",
       "      <td>4</td>\n",
       "      <td>I am a developer by profession</td>\n",
       "      <td>No</td>\n",
       "      <td>Never</td>\n",
       "      <td>The quality of OSS and closed source software ...</td>\n",
       "      <td>Employed full-time</td>\n",
       "      <td>United States</td>\n",
       "      <td>No</td>\n",
       "      <td>Bachelor’s degree (BA, BS, B.Eng., etc.)</td>\n",
       "      <td>Computer science, computer engineering, or sof...</td>\n",
       "      <td>...</td>\n",
       "      <td>Just as welcome now as I felt last year</td>\n",
       "      <td>Tech articles written by other developers;Indu...</td>\n",
       "      <td>22.0</td>\n",
       "      <td>Man</td>\n",
       "      <td>No</td>\n",
       "      <td>Straight / Heterosexual</td>\n",
       "      <td>White or of European descent</td>\n",
       "      <td>No</td>\n",
       "      <td>Appropriate in length</td>\n",
       "      <td>Easy</td>\n",
       "    </tr>\n",
       "    <tr>\n",
       "      <th>1</th>\n",
       "      <td>9</td>\n",
       "      <td>I am a developer by profession</td>\n",
       "      <td>Yes</td>\n",
       "      <td>Once a month or more often</td>\n",
       "      <td>The quality of OSS and closed source software ...</td>\n",
       "      <td>Employed full-time</td>\n",
       "      <td>New Zealand</td>\n",
       "      <td>No</td>\n",
       "      <td>Some college/university study without earning ...</td>\n",
       "      <td>Computer science, computer engineering, or sof...</td>\n",
       "      <td>...</td>\n",
       "      <td>Just as welcome now as I felt last year</td>\n",
       "      <td>NaN</td>\n",
       "      <td>23.0</td>\n",
       "      <td>Man</td>\n",
       "      <td>No</td>\n",
       "      <td>Bisexual</td>\n",
       "      <td>White or of European descent</td>\n",
       "      <td>No</td>\n",
       "      <td>Appropriate in length</td>\n",
       "      <td>Neither easy nor difficult</td>\n",
       "    </tr>\n",
       "    <tr>\n",
       "      <th>2</th>\n",
       "      <td>13</td>\n",
       "      <td>I am a developer by profession</td>\n",
       "      <td>Yes</td>\n",
       "      <td>Less than once a month but more than once per ...</td>\n",
       "      <td>OSS is, on average, of HIGHER quality than pro...</td>\n",
       "      <td>Employed full-time</td>\n",
       "      <td>United States</td>\n",
       "      <td>No</td>\n",
       "      <td>Master’s degree (MA, MS, M.Eng., MBA, etc.)</td>\n",
       "      <td>Computer science, computer engineering, or sof...</td>\n",
       "      <td>...</td>\n",
       "      <td>Somewhat more welcome now than last year</td>\n",
       "      <td>Tech articles written by other developers;Cour...</td>\n",
       "      <td>28.0</td>\n",
       "      <td>Man</td>\n",
       "      <td>No</td>\n",
       "      <td>Straight / Heterosexual</td>\n",
       "      <td>White or of European descent</td>\n",
       "      <td>Yes</td>\n",
       "      <td>Appropriate in length</td>\n",
       "      <td>Easy</td>\n",
       "    </tr>\n",
       "    <tr>\n",
       "      <th>3</th>\n",
       "      <td>16</td>\n",
       "      <td>I am a developer by profession</td>\n",
       "      <td>Yes</td>\n",
       "      <td>Never</td>\n",
       "      <td>The quality of OSS and closed source software ...</td>\n",
       "      <td>Employed full-time</td>\n",
       "      <td>United Kingdom</td>\n",
       "      <td>No</td>\n",
       "      <td>Master’s degree (MA, MS, M.Eng., MBA, etc.)</td>\n",
       "      <td>NaN</td>\n",
       "      <td>...</td>\n",
       "      <td>Just as welcome now as I felt last year</td>\n",
       "      <td>Tech articles written by other developers;Indu...</td>\n",
       "      <td>26.0</td>\n",
       "      <td>Man</td>\n",
       "      <td>No</td>\n",
       "      <td>Straight / Heterosexual</td>\n",
       "      <td>White or of European descent</td>\n",
       "      <td>No</td>\n",
       "      <td>Appropriate in length</td>\n",
       "      <td>Neither easy nor difficult</td>\n",
       "    </tr>\n",
       "    <tr>\n",
       "      <th>4</th>\n",
       "      <td>17</td>\n",
       "      <td>I am a developer by profession</td>\n",
       "      <td>Yes</td>\n",
       "      <td>Less than once a month but more than once per ...</td>\n",
       "      <td>The quality of OSS and closed source software ...</td>\n",
       "      <td>Employed full-time</td>\n",
       "      <td>Australia</td>\n",
       "      <td>No</td>\n",
       "      <td>Bachelor’s degree (BA, BS, B.Eng., etc.)</td>\n",
       "      <td>Computer science, computer engineering, or sof...</td>\n",
       "      <td>...</td>\n",
       "      <td>Just as welcome now as I felt last year</td>\n",
       "      <td>Tech articles written by other developers;Indu...</td>\n",
       "      <td>29.0</td>\n",
       "      <td>Man</td>\n",
       "      <td>No</td>\n",
       "      <td>Straight / Heterosexual</td>\n",
       "      <td>Hispanic or Latino/Latina;Multiracial</td>\n",
       "      <td>No</td>\n",
       "      <td>Appropriate in length</td>\n",
       "      <td>Easy</td>\n",
       "    </tr>\n",
       "  </tbody>\n",
       "</table>\n",
       "<p>5 rows × 85 columns</p>\n",
       "</div>"
      ],
      "text/plain": [
       "   Respondent                      MainBranch Hobbyist  \\\n",
       "0           4  I am a developer by profession       No   \n",
       "1           9  I am a developer by profession      Yes   \n",
       "2          13  I am a developer by profession      Yes   \n",
       "3          16  I am a developer by profession      Yes   \n",
       "4          17  I am a developer by profession      Yes   \n",
       "\n",
       "                                         OpenSourcer  \\\n",
       "0                                              Never   \n",
       "1                         Once a month or more often   \n",
       "2  Less than once a month but more than once per ...   \n",
       "3                                              Never   \n",
       "4  Less than once a month but more than once per ...   \n",
       "\n",
       "                                          OpenSource          Employment  \\\n",
       "0  The quality of OSS and closed source software ...  Employed full-time   \n",
       "1  The quality of OSS and closed source software ...  Employed full-time   \n",
       "2  OSS is, on average, of HIGHER quality than pro...  Employed full-time   \n",
       "3  The quality of OSS and closed source software ...  Employed full-time   \n",
       "4  The quality of OSS and closed source software ...  Employed full-time   \n",
       "\n",
       "          Country Student                                            EdLevel  \\\n",
       "0   United States      No           Bachelor’s degree (BA, BS, B.Eng., etc.)   \n",
       "1     New Zealand      No  Some college/university study without earning ...   \n",
       "2   United States      No        Master’s degree (MA, MS, M.Eng., MBA, etc.)   \n",
       "3  United Kingdom      No        Master’s degree (MA, MS, M.Eng., MBA, etc.)   \n",
       "4       Australia      No           Bachelor’s degree (BA, BS, B.Eng., etc.)   \n",
       "\n",
       "                                      UndergradMajor  ...  \\\n",
       "0  Computer science, computer engineering, or sof...  ...   \n",
       "1  Computer science, computer engineering, or sof...  ...   \n",
       "2  Computer science, computer engineering, or sof...  ...   \n",
       "3                                                NaN  ...   \n",
       "4  Computer science, computer engineering, or sof...  ...   \n",
       "\n",
       "                              WelcomeChange  \\\n",
       "0   Just as welcome now as I felt last year   \n",
       "1   Just as welcome now as I felt last year   \n",
       "2  Somewhat more welcome now than last year   \n",
       "3   Just as welcome now as I felt last year   \n",
       "4   Just as welcome now as I felt last year   \n",
       "\n",
       "                                        SONewContent   Age Gender Trans  \\\n",
       "0  Tech articles written by other developers;Indu...  22.0    Man    No   \n",
       "1                                                NaN  23.0    Man    No   \n",
       "2  Tech articles written by other developers;Cour...  28.0    Man    No   \n",
       "3  Tech articles written by other developers;Indu...  26.0    Man    No   \n",
       "4  Tech articles written by other developers;Indu...  29.0    Man    No   \n",
       "\n",
       "                 Sexuality                              Ethnicity Dependents  \\\n",
       "0  Straight / Heterosexual           White or of European descent         No   \n",
       "1                 Bisexual           White or of European descent         No   \n",
       "2  Straight / Heterosexual           White or of European descent        Yes   \n",
       "3  Straight / Heterosexual           White or of European descent         No   \n",
       "4  Straight / Heterosexual  Hispanic or Latino/Latina;Multiracial         No   \n",
       "\n",
       "            SurveyLength                  SurveyEase  \n",
       "0  Appropriate in length                        Easy  \n",
       "1  Appropriate in length  Neither easy nor difficult  \n",
       "2  Appropriate in length                        Easy  \n",
       "3  Appropriate in length  Neither easy nor difficult  \n",
       "4  Appropriate in length                        Easy  \n",
       "\n",
       "[5 rows x 85 columns]"
      ]
     },
     "execution_count": 3,
     "metadata": {},
     "output_type": "execute_result"
    }
   ],
   "source": [
    "# shows the first 5 rows of the dataframe\n",
    "df.head() \n"
   ]
  },
  {
   "cell_type": "code",
   "execution_count": 4,
   "id": "acc15cc7",
   "metadata": {
    "execution": {
     "iopub.execute_input": "2023-03-24T23:45:38.083359Z",
     "iopub.status.busy": "2023-03-24T23:45:38.082444Z",
     "iopub.status.idle": "2023-03-24T23:45:38.161998Z",
     "shell.execute_reply": "2023-03-24T23:45:38.160645Z"
    },
    "papermill": {
     "duration": 0.103511,
     "end_time": "2023-03-24T23:45:38.165421",
     "exception": false,
     "start_time": "2023-03-24T23:45:38.061910",
     "status": "completed"
    },
    "tags": []
   },
   "outputs": [
    {
     "name": "stdout",
     "output_type": "stream",
     "text": [
      "<class 'pandas.core.frame.DataFrame'>\n",
      "RangeIndex: 11552 entries, 0 to 11551\n",
      "Data columns (total 85 columns):\n",
      " #   Column                  Non-Null Count  Dtype  \n",
      "---  ------                  --------------  -----  \n",
      " 0   Respondent              11552 non-null  int64  \n",
      " 1   MainBranch              11552 non-null  object \n",
      " 2   Hobbyist                11552 non-null  object \n",
      " 3   OpenSourcer             11552 non-null  object \n",
      " 4   OpenSource              11471 non-null  object \n",
      " 5   Employment              11552 non-null  object \n",
      " 6   Country                 11552 non-null  object \n",
      " 7   Student                 11499 non-null  object \n",
      " 8   EdLevel                 11436 non-null  object \n",
      " 9   UndergradMajor          10812 non-null  object \n",
      " 10  EduOther                11388 non-null  object \n",
      " 11  OrgSize                 11454 non-null  object \n",
      " 12  DevType                 11485 non-null  object \n",
      " 13  YearsCode               11543 non-null  object \n",
      " 14  Age1stCode              11539 non-null  object \n",
      " 15  YearsCodePro            11536 non-null  object \n",
      " 16  CareerSat               11552 non-null  object \n",
      " 17  JobSat                  11551 non-null  object \n",
      " 18  MgrIdiot                11054 non-null  object \n",
      " 19  MgrMoney                11050 non-null  object \n",
      " 20  MgrWant                 11054 non-null  object \n",
      " 21  JobSeek                 11552 non-null  object \n",
      " 22  LastHireDate            11552 non-null  object \n",
      " 23  LastInt                 11129 non-null  object \n",
      " 24  FizzBuzz                11515 non-null  object \n",
      " 25  JobFactors              11549 non-null  object \n",
      " 26  ResumeUpdate            11511 non-null  object \n",
      " 27  CurrencySymbol          11552 non-null  object \n",
      " 28  CurrencyDesc            11552 non-null  object \n",
      " 29  CompTotal               10737 non-null  float64\n",
      " 30  CompFreq                11346 non-null  object \n",
      " 31  ConvertedComp           10730 non-null  float64\n",
      " 32  WorkWeekHrs             11427 non-null  float64\n",
      " 33  WorkPlan                11429 non-null  object \n",
      " 34  WorkChallenge           11384 non-null  object \n",
      " 35  WorkRemote              11544 non-null  object \n",
      " 36  WorkLoc                 11520 non-null  object \n",
      " 37  ImpSyn                  11547 non-null  object \n",
      " 38  CodeRev                 11551 non-null  object \n",
      " 39  CodeRevHrs              9083 non-null   float64\n",
      " 40  UnitTests               11523 non-null  object \n",
      " 41  PurchaseHow             11354 non-null  object \n",
      " 42  PurchaseWhat            11514 non-null  object \n",
      " 43  LanguageWorkedWith      11541 non-null  object \n",
      " 44  LanguageDesireNextYear  11415 non-null  object \n",
      " 45  DatabaseWorkedWith      11096 non-null  object \n",
      " 46  DatabaseDesireNextYear  10497 non-null  object \n",
      " 47  PlatformWorkedWith      11130 non-null  object \n",
      " 48  PlatformDesireNextYear  10991 non-null  object \n",
      " 49  WebFrameWorkedWith      10139 non-null  object \n",
      " 50  WebFrameDesireNextYear  9918 non-null   object \n",
      " 51  MiscTechWorkedWith      9343 non-null   object \n",
      " 52  MiscTechDesireNextYear  10078 non-null  object \n",
      " 53  DevEnviron              11523 non-null  object \n",
      " 54  OpSys                   11518 non-null  object \n",
      " 55  Containers              11470 non-null  object \n",
      " 56  BlockchainOrg           9198 non-null   object \n",
      " 57  BlockchainIs            8915 non-null   object \n",
      " 58  BetterLife              11452 non-null  object \n",
      " 59  ITperson                11517 non-null  object \n",
      " 60  OffOn                   11514 non-null  object \n",
      " 61  SocialMedia             11251 non-null  object \n",
      " 62  Extraversion            11532 non-null  object \n",
      " 63  ScreenName              11039 non-null  object \n",
      " 64  SOVisit1st              11227 non-null  object \n",
      " 65  SOVisitFreq             11547 non-null  object \n",
      " 66  SOVisitTo               11551 non-null  object \n",
      " 67  SOFindAnswer            11549 non-null  object \n",
      " 68  SOTimeSaved             11501 non-null  object \n",
      " 69  SOHowMuchTime           9616 non-null   object \n",
      " 70  SOAccount               11551 non-null  object \n",
      " 71  SOPartFreq              10404 non-null  object \n",
      " 72  SOJobs                  11546 non-null  object \n",
      " 73  EntTeams                11547 non-null  object \n",
      " 74  SOComm                  11552 non-null  object \n",
      " 75  WelcomeChange           11463 non-null  object \n",
      " 76  SONewContent            9557 non-null   object \n",
      " 77  Age                     11255 non-null  float64\n",
      " 78  Gender                  11477 non-null  object \n",
      " 79  Trans                   11429 non-null  object \n",
      " 80  Sexuality               11005 non-null  object \n",
      " 81  Ethnicity               10869 non-null  object \n",
      " 82  Dependents              11408 non-null  object \n",
      " 83  SurveyLength            11533 non-null  object \n",
      " 84  SurveyEase              11538 non-null  object \n",
      "dtypes: float64(5), int64(1), object(79)\n",
      "memory usage: 7.5+ MB\n"
     ]
    },
    {
     "data": {
      "text/plain": [
       "(11552, 85)"
      ]
     },
     "execution_count": 4,
     "metadata": {},
     "output_type": "execute_result"
    }
   ],
   "source": [
    "df.info() # provides information on the columns, their data types, and the number of non-null values\n",
    "df.shape # provides the number of rows and columns in the dataframe"
   ]
  },
  {
   "cell_type": "code",
   "execution_count": 5,
   "id": "86bec4f4",
   "metadata": {
    "execution": {
     "iopub.execute_input": "2023-03-24T23:45:38.206704Z",
     "iopub.status.busy": "2023-03-24T23:45:38.205804Z",
     "iopub.status.idle": "2023-03-24T23:45:38.214662Z",
     "shell.execute_reply": "2023-03-24T23:45:38.213047Z"
    },
    "papermill": {
     "duration": 0.032183,
     "end_time": "2023-03-24T23:45:38.217322",
     "exception": false,
     "start_time": "2023-03-24T23:45:38.185139",
     "status": "completed"
    },
    "tags": []
   },
   "outputs": [
    {
     "data": {
      "text/plain": [
       "30.77239449133718"
      ]
     },
     "execution_count": 5,
     "metadata": {},
     "output_type": "execute_result"
    }
   ],
   "source": [
    "# Print the mean age of the survey participants.\n",
    "df['Age'].mean(axis=0)"
   ]
  },
  {
   "cell_type": "code",
   "execution_count": 6,
   "id": "075222b8",
   "metadata": {
    "execution": {
     "iopub.execute_input": "2023-03-24T23:45:38.259120Z",
     "iopub.status.busy": "2023-03-24T23:45:38.258695Z",
     "iopub.status.idle": "2023-03-24T23:45:38.267342Z",
     "shell.execute_reply": "2023-03-24T23:45:38.266016Z"
    },
    "papermill": {
     "duration": 0.032441,
     "end_time": "2023-03-24T23:45:38.269987",
     "exception": false,
     "start_time": "2023-03-24T23:45:38.237546",
     "status": "completed"
    },
    "tags": []
   },
   "outputs": [
    {
     "data": {
      "text/plain": [
       "135"
      ]
     },
     "execution_count": 6,
     "metadata": {},
     "output_type": "execute_result"
    }
   ],
   "source": [
    "# Print how many unique countries are there in the Country column.\n",
    "len(df['Country'].unique())"
   ]
  },
  {
   "cell_type": "code",
   "execution_count": 7,
   "id": "6b335bf6",
   "metadata": {
    "execution": {
     "iopub.execute_input": "2023-03-24T23:45:38.311014Z",
     "iopub.status.busy": "2023-03-24T23:45:38.310602Z",
     "iopub.status.idle": "2023-03-24T23:45:38.331917Z",
     "shell.execute_reply": "2023-03-24T23:45:38.330576Z"
    },
    "papermill": {
     "duration": 0.044858,
     "end_time": "2023-03-24T23:45:38.334608",
     "exception": false,
     "start_time": "2023-03-24T23:45:38.289750",
     "status": "completed"
    },
    "tags": []
   },
   "outputs": [
    {
     "data": {
      "text/html": [
       "<div>\n",
       "<style scoped>\n",
       "    .dataframe tbody tr th:only-of-type {\n",
       "        vertical-align: middle;\n",
       "    }\n",
       "\n",
       "    .dataframe tbody tr th {\n",
       "        vertical-align: top;\n",
       "    }\n",
       "\n",
       "    .dataframe thead th {\n",
       "        text-align: right;\n",
       "    }\n",
       "</style>\n",
       "<table border=\"1\" class=\"dataframe\">\n",
       "  <thead>\n",
       "    <tr style=\"text-align: right;\">\n",
       "      <th></th>\n",
       "      <th>Country</th>\n",
       "      <th>Count</th>\n",
       "    </tr>\n",
       "  </thead>\n",
       "  <tbody>\n",
       "    <tr>\n",
       "      <th>128</th>\n",
       "      <td>United States</td>\n",
       "      <td>3173</td>\n",
       "    </tr>\n",
       "    <tr>\n",
       "      <th>50</th>\n",
       "      <td>India</td>\n",
       "      <td>911</td>\n",
       "    </tr>\n",
       "    <tr>\n",
       "      <th>126</th>\n",
       "      <td>United Kingdom</td>\n",
       "      <td>841</td>\n",
       "    </tr>\n",
       "    <tr>\n",
       "      <th>42</th>\n",
       "      <td>Germany</td>\n",
       "      <td>715</td>\n",
       "    </tr>\n",
       "    <tr>\n",
       "      <th>20</th>\n",
       "      <td>Canada</td>\n",
       "      <td>442</td>\n",
       "    </tr>\n",
       "    <tr>\n",
       "      <th>...</th>\n",
       "      <td>...</td>\n",
       "      <td>...</td>\n",
       "    </tr>\n",
       "    <tr>\n",
       "      <th>21</th>\n",
       "      <td>Cape Verde</td>\n",
       "      <td>1</td>\n",
       "    </tr>\n",
       "    <tr>\n",
       "      <th>66</th>\n",
       "      <td>Liechtenstein</td>\n",
       "      <td>1</td>\n",
       "    </tr>\n",
       "    <tr>\n",
       "      <th>119</th>\n",
       "      <td>Togo</td>\n",
       "      <td>1</td>\n",
       "    </tr>\n",
       "    <tr>\n",
       "      <th>118</th>\n",
       "      <td>Timor-Leste</td>\n",
       "      <td>1</td>\n",
       "    </tr>\n",
       "    <tr>\n",
       "      <th>73</th>\n",
       "      <td>Monaco</td>\n",
       "      <td>1</td>\n",
       "    </tr>\n",
       "  </tbody>\n",
       "</table>\n",
       "<p>135 rows × 2 columns</p>\n",
       "</div>"
      ],
      "text/plain": [
       "            Country  Count\n",
       "128   United States   3173\n",
       "50            India    911\n",
       "126  United Kingdom    841\n",
       "42          Germany    715\n",
       "20           Canada    442\n",
       "..              ...    ...\n",
       "21       Cape Verde      1\n",
       "66    Liechtenstein      1\n",
       "119            Togo      1\n",
       "118     Timor-Leste      1\n",
       "73           Monaco      1\n",
       "\n",
       "[135 rows x 2 columns]"
      ]
     },
     "execution_count": 7,
     "metadata": {},
     "output_type": "execute_result"
    }
   ],
   "source": [
    "df_country_count = df.groupby('Country')['Respondent'].count().reset_index(name='Count').sort_values(by=['Count'], ascending=False)\n",
    "df_country_count\n"
   ]
  },
  {
   "cell_type": "markdown",
   "id": "54e21674",
   "metadata": {
    "papermill": {
     "duration": 0.01912,
     "end_time": "2023-03-24T23:45:38.374224",
     "exception": false,
     "start_time": "2023-03-24T23:45:38.355104",
     "status": "completed"
    },
    "tags": []
   },
   "source": [
    "#### Findings\n",
    "- data type is formatted as objects and floats\n",
    "- Average Age of Respondent is about 30.78 years old\n",
    "- the Survey Includes 135 different countries"
   ]
  },
  {
   "cell_type": "markdown",
   "id": "1288fcb5",
   "metadata": {
    "papermill": {
     "duration": 0.018945,
     "end_time": "2023-03-24T23:45:38.412555",
     "exception": false,
     "start_time": "2023-03-24T23:45:38.393610",
     "status": "completed"
    },
    "tags": []
   },
   "source": [
    "## Finding duplicates"
   ]
  },
  {
   "cell_type": "code",
   "execution_count": 8,
   "id": "32f355c3",
   "metadata": {
    "execution": {
     "iopub.execute_input": "2023-03-24T23:45:38.454680Z",
     "iopub.status.busy": "2023-03-24T23:45:38.453054Z",
     "iopub.status.idle": "2023-03-24T23:45:38.588237Z",
     "shell.execute_reply": "2023-03-24T23:45:38.586930Z"
    },
    "papermill": {
     "duration": 0.160521,
     "end_time": "2023-03-24T23:45:38.592468",
     "exception": false,
     "start_time": "2023-03-24T23:45:38.431947",
     "status": "completed"
    },
    "tags": []
   },
   "outputs": [
    {
     "name": "stdout",
     "output_type": "stream",
     "text": [
      "154\n"
     ]
    }
   ],
   "source": [
    "# Find how many duplicate rows exist in the dataframe.\n",
    "print(df.duplicated().sum())"
   ]
  },
  {
   "cell_type": "markdown",
   "id": "d46cdf2e",
   "metadata": {
    "papermill": {
     "duration": 0.01906,
     "end_time": "2023-03-24T23:45:38.632568",
     "exception": false,
     "start_time": "2023-03-24T23:45:38.613508",
     "status": "completed"
    },
    "tags": []
   },
   "source": [
    "## Removing duplicates"
   ]
  },
  {
   "cell_type": "code",
   "execution_count": 9,
   "id": "8e5450ae",
   "metadata": {
    "execution": {
     "iopub.execute_input": "2023-03-24T23:45:38.672586Z",
     "iopub.status.busy": "2023-03-24T23:45:38.672172Z",
     "iopub.status.idle": "2023-03-24T23:45:38.775810Z",
     "shell.execute_reply": "2023-03-24T23:45:38.774365Z"
    },
    "papermill": {
     "duration": 0.127239,
     "end_time": "2023-03-24T23:45:38.778740",
     "exception": false,
     "start_time": "2023-03-24T23:45:38.651501",
     "status": "completed"
    },
    "tags": []
   },
   "outputs": [],
   "source": [
    "# Remove the duplicate rows from the dataframe.\n",
    "df.drop_duplicates(inplace = True)"
   ]
  },
  {
   "cell_type": "code",
   "execution_count": 10,
   "id": "6f800784",
   "metadata": {
    "execution": {
     "iopub.execute_input": "2023-03-24T23:45:38.821341Z",
     "iopub.status.busy": "2023-03-24T23:45:38.820874Z",
     "iopub.status.idle": "2023-03-24T23:45:38.926390Z",
     "shell.execute_reply": "2023-03-24T23:45:38.925162Z"
    },
    "papermill": {
     "duration": 0.1322,
     "end_time": "2023-03-24T23:45:38.930752",
     "exception": false,
     "start_time": "2023-03-24T23:45:38.798552",
     "status": "completed"
    },
    "tags": []
   },
   "outputs": [
    {
     "name": "stdout",
     "output_type": "stream",
     "text": [
      "False    11398\n",
      "dtype: int64\n"
     ]
    }
   ],
   "source": [
    "# Verify if duplicates were actually dropped.\n",
    "print(df.duplicated().value_counts())"
   ]
  },
  {
   "cell_type": "markdown",
   "id": "f7fbaa8b",
   "metadata": {
    "papermill": {
     "duration": 0.019522,
     "end_time": "2023-03-24T23:45:38.971262",
     "exception": false,
     "start_time": "2023-03-24T23:45:38.951740",
     "status": "completed"
    },
    "tags": []
   },
   "source": [
    "#### Results\n",
    "- 154 Duplicate Rows remove from datafram"
   ]
  },
  {
   "cell_type": "markdown",
   "id": "ab013b5b",
   "metadata": {
    "papermill": {
     "duration": 0.020155,
     "end_time": "2023-03-24T23:45:39.011447",
     "exception": false,
     "start_time": "2023-03-24T23:45:38.991292",
     "status": "completed"
    },
    "tags": []
   },
   "source": [
    "## Finding Missing values"
   ]
  },
  {
   "cell_type": "code",
   "execution_count": 11,
   "id": "1d666a52",
   "metadata": {
    "execution": {
     "iopub.execute_input": "2023-03-24T23:45:39.055911Z",
     "iopub.status.busy": "2023-03-24T23:45:39.055442Z",
     "iopub.status.idle": "2023-03-24T23:45:39.110153Z",
     "shell.execute_reply": "2023-03-24T23:45:39.108765Z"
    },
    "papermill": {
     "duration": 0.080549,
     "end_time": "2023-03-24T23:45:39.113138",
     "exception": false,
     "start_time": "2023-03-24T23:45:39.032589",
     "status": "completed"
    },
    "tags": []
   },
   "outputs": [
    {
     "data": {
      "text/plain": [
       "Index(['OpenSource', 'Student', 'EdLevel', 'UndergradMajor', 'EduOther',\n",
       "       'OrgSize', 'DevType', 'YearsCode', 'Age1stCode', 'YearsCodePro',\n",
       "       'JobSat', 'MgrIdiot', 'MgrMoney', 'MgrWant', 'LastInt', 'FizzBuzz',\n",
       "       'JobFactors', 'ResumeUpdate', 'CompTotal', 'CompFreq', 'ConvertedComp',\n",
       "       'WorkWeekHrs', 'WorkPlan', 'WorkChallenge', 'WorkRemote', 'WorkLoc',\n",
       "       'ImpSyn', 'CodeRev', 'CodeRevHrs', 'UnitTests', 'PurchaseHow',\n",
       "       'PurchaseWhat', 'LanguageWorkedWith', 'LanguageDesireNextYear',\n",
       "       'DatabaseWorkedWith', 'DatabaseDesireNextYear', 'PlatformWorkedWith',\n",
       "       'PlatformDesireNextYear', 'WebFrameWorkedWith',\n",
       "       'WebFrameDesireNextYear', 'MiscTechWorkedWith',\n",
       "       'MiscTechDesireNextYear', 'DevEnviron', 'OpSys', 'Containers',\n",
       "       'BlockchainOrg', 'BlockchainIs', 'BetterLife', 'ITperson', 'OffOn',\n",
       "       'SocialMedia', 'Extraversion', 'ScreenName', 'SOVisit1st',\n",
       "       'SOVisitFreq', 'SOVisitTo', 'SOFindAnswer', 'SOTimeSaved',\n",
       "       'SOHowMuchTime', 'SOAccount', 'SOPartFreq', 'SOJobs', 'EntTeams',\n",
       "       'WelcomeChange', 'SONewContent', 'Age', 'Gender', 'Trans', 'Sexuality',\n",
       "       'Ethnicity', 'Dependents', 'SurveyLength', 'SurveyEase'],\n",
       "      dtype='object')"
      ]
     },
     "execution_count": 11,
     "metadata": {},
     "output_type": "execute_result"
    }
   ],
   "source": [
    "# Find the missing values for all columns.\n",
    "df.columns[df.isnull().any()]"
   ]
  },
  {
   "cell_type": "markdown",
   "id": "bdc14d1d",
   "metadata": {
    "papermill": {
     "duration": 0.019405,
     "end_time": "2023-03-24T23:45:39.152517",
     "exception": false,
     "start_time": "2023-03-24T23:45:39.133112",
     "status": "completed"
    },
    "tags": []
   },
   "source": [
    "#### Result\n",
    "- There are missing values in many of the columns"
   ]
  },
  {
   "cell_type": "code",
   "execution_count": 12,
   "id": "7e71cc0d",
   "metadata": {
    "execution": {
     "iopub.execute_input": "2023-03-24T23:45:39.194294Z",
     "iopub.status.busy": "2023-03-24T23:45:39.193790Z",
     "iopub.status.idle": "2023-03-24T23:45:39.204333Z",
     "shell.execute_reply": "2023-03-24T23:45:39.203063Z"
    },
    "papermill": {
     "duration": 0.034958,
     "end_time": "2023-03-24T23:45:39.207273",
     "exception": false,
     "start_time": "2023-03-24T23:45:39.172315",
     "status": "completed"
    },
    "tags": []
   },
   "outputs": [
    {
     "data": {
      "text/plain": [
       "32"
      ]
     },
     "execution_count": 12,
     "metadata": {},
     "output_type": "execute_result"
    }
   ],
   "source": [
    "# Find out how many rows are missing in the column Work Location\n",
    "df['WorkLoc'].isna().sum()"
   ]
  },
  {
   "cell_type": "code",
   "execution_count": 13,
   "id": "3740b405",
   "metadata": {
    "execution": {
     "iopub.execute_input": "2023-03-24T23:45:39.250325Z",
     "iopub.status.busy": "2023-03-24T23:45:39.249875Z",
     "iopub.status.idle": "2023-03-24T23:45:39.259811Z",
     "shell.execute_reply": "2023-03-24T23:45:39.258360Z"
    },
    "papermill": {
     "duration": 0.034623,
     "end_time": "2023-03-24T23:45:39.262780",
     "exception": false,
     "start_time": "2023-03-24T23:45:39.228157",
     "status": "completed"
    },
    "tags": []
   },
   "outputs": [
    {
     "data": {
      "text/plain": [
       "112"
      ]
     },
     "execution_count": 13,
     "metadata": {},
     "output_type": "execute_result"
    }
   ],
   "source": [
    "# Find out how many rows are missing in the column Education Level\n",
    "df['EdLevel'].isna().sum()"
   ]
  },
  {
   "cell_type": "markdown",
   "id": "824e9c5e",
   "metadata": {
    "papermill": {
     "duration": 0.020145,
     "end_time": "2023-03-24T23:45:39.303246",
     "exception": false,
     "start_time": "2023-03-24T23:45:39.283101",
     "status": "completed"
    },
    "tags": []
   },
   "source": [
    "#### Results\n",
    "- Work location is missing 32 values\n",
    "- Education levele is missing 112 values"
   ]
  },
  {
   "cell_type": "markdown",
   "id": "72059782",
   "metadata": {
    "papermill": {
     "duration": 0.020545,
     "end_time": "2023-03-24T23:45:39.344838",
     "exception": false,
     "start_time": "2023-03-24T23:45:39.324293",
     "status": "completed"
    },
    "tags": []
   },
   "source": [
    "## Imputing missing values, with mode"
   ]
  },
  {
   "cell_type": "code",
   "execution_count": 14,
   "id": "0bca400d",
   "metadata": {
    "execution": {
     "iopub.execute_input": "2023-03-24T23:45:39.389144Z",
     "iopub.status.busy": "2023-03-24T23:45:39.388108Z",
     "iopub.status.idle": "2023-03-24T23:45:39.402189Z",
     "shell.execute_reply": "2023-03-24T23:45:39.400804Z"
    },
    "papermill": {
     "duration": 0.040308,
     "end_time": "2023-03-24T23:45:39.405133",
     "exception": false,
     "start_time": "2023-03-24T23:45:39.364825",
     "status": "completed"
    },
    "tags": []
   },
   "outputs": [
    {
     "data": {
      "text/plain": [
       "Office                                            6806\n",
       "Home                                              3589\n",
       "Other place, such as a coworking space or cafe     971\n",
       "Name: WorkLoc, dtype: int64"
      ]
     },
     "execution_count": 14,
     "metadata": {},
     "output_type": "execute_result"
    }
   ],
   "source": [
    "# Find the value counts for the column WorkLoc (Location of employee).\n",
    "df['WorkLoc'].value_counts()"
   ]
  },
  {
   "cell_type": "code",
   "execution_count": 15,
   "id": "09d6bada",
   "metadata": {
    "execution": {
     "iopub.execute_input": "2023-03-24T23:45:39.448013Z",
     "iopub.status.busy": "2023-03-24T23:45:39.447548Z",
     "iopub.status.idle": "2023-03-24T23:45:39.458570Z",
     "shell.execute_reply": "2023-03-24T23:45:39.457660Z"
    },
    "papermill": {
     "duration": 0.034812,
     "end_time": "2023-03-24T23:45:39.460834",
     "exception": false,
     "start_time": "2023-03-24T23:45:39.426022",
     "status": "completed"
    },
    "tags": []
   },
   "outputs": [
    {
     "data": {
      "text/plain": [
       "2000000.0    138\n",
       "1000000.0    105\n",
       "100000.0      99\n",
       "150000.0      92\n",
       "120000.0      86\n",
       "            ... \n",
       "79183.0        1\n",
       "20475.0        1\n",
       "288732.0       1\n",
       "22056.0        1\n",
       "19880.0        1\n",
       "Name: ConvertedComp, Length: 3515, dtype: int64"
      ]
     },
     "execution_count": 15,
     "metadata": {},
     "output_type": "execute_result"
    }
   ],
   "source": [
    "# Find the value counts for the column converted Comp (Annual Compensation).\n",
    "df['ConvertedComp'].value_counts()"
   ]
  },
  {
   "cell_type": "code",
   "execution_count": 16,
   "id": "c236d198",
   "metadata": {
    "execution": {
     "iopub.execute_input": "2023-03-24T23:45:39.502958Z",
     "iopub.status.busy": "2023-03-24T23:45:39.502511Z",
     "iopub.status.idle": "2023-03-24T23:45:39.512273Z",
     "shell.execute_reply": "2023-03-24T23:45:39.510935Z"
    },
    "papermill": {
     "duration": 0.033926,
     "end_time": "2023-03-24T23:45:39.514828",
     "exception": false,
     "start_time": "2023-03-24T23:45:39.480902",
     "status": "completed"
    },
    "tags": []
   },
   "outputs": [
    {
     "data": {
      "text/plain": [
       "Computer science, computer engineering, or software engineering          6953\n",
       "Information systems, information technology, or system administration     794\n",
       "Another engineering discipline (ex. civil, electrical, mechanical)        759\n",
       "Web development or web design                                             410\n",
       "A natural science (ex. biology, chemistry, physics)                       403\n",
       "Mathematics or statistics                                                 372\n",
       "A business discipline (ex. accounting, finance, marketing)                244\n",
       "A social science (ex. anthropology, psychology, political science)        210\n",
       "A humanities discipline (ex. literature, history, philosophy)             207\n",
       "Fine arts or performing arts (ex. graphic design, music, studio art)      161\n",
       "I never declared a major                                                  124\n",
       "A health science (ex. nursing, pharmacy, radiology)                        24\n",
       "Name: UndergradMajor, dtype: int64"
      ]
     },
     "execution_count": 16,
     "metadata": {},
     "output_type": "execute_result"
    }
   ],
   "source": [
    "# Find the value counts for the column Undergrad Mayor.\n",
    "df['UndergradMajor'].value_counts()"
   ]
  },
  {
   "cell_type": "markdown",
   "id": "4aefa992",
   "metadata": {
    "papermill": {
     "duration": 0.019814,
     "end_time": "2023-03-24T23:45:39.554691",
     "exception": false,
     "start_time": "2023-03-24T23:45:39.534877",
     "status": "completed"
    },
    "tags": []
   },
   "source": [
    "#### Highlights\n",
    "- Must respondents works from office, 6806. Follow by 3589 from Home and 971 from Other place, such as a coworking space or cafe \n",
    "- The most popular majors among respondents are Computer science, computer engineering, or software engineering with 6953 respondents.\n",
    "- The next most popular majors are Information systems, information technology, or system administration with 794 respondents, followed by Another engineering discipline (ex. civil, electrical, mechanical) with 759 respondents.\n",
    "- Web development or web design is also a popular major among respondents, with 410 respondents.\n",
    "- The other majors such as natural science, mathematics or statistics, business discipline, social science, humanities discipline, and fine arts or performing arts have a relatively lower number of respondents.\n",
    "- There are also 124 respondents who never declared a major and 24 respondents who belong to the health science field.\n"
   ]
  },
  {
   "cell_type": "code",
   "execution_count": 17,
   "id": "b19ee086",
   "metadata": {
    "execution": {
     "iopub.execute_input": "2023-03-24T23:45:39.596854Z",
     "iopub.status.busy": "2023-03-24T23:45:39.596398Z",
     "iopub.status.idle": "2023-03-24T23:45:39.603389Z",
     "shell.execute_reply": "2023-03-24T23:45:39.602368Z"
    },
    "papermill": {
     "duration": 0.031215,
     "end_time": "2023-03-24T23:45:39.605999",
     "exception": false,
     "start_time": "2023-03-24T23:45:39.574784",
     "status": "completed"
    },
    "tags": []
   },
   "outputs": [
    {
     "name": "stdout",
     "output_type": "stream",
     "text": [
      "Office\n"
     ]
    }
   ],
   "source": [
    "# Identify the value that is most frequent (majority) in the WorkLoc column.\n",
    "# make a note of the majority value here, for future reference\n",
    "majority = df['WorkLoc'].value_counts().idxmax()\n",
    "print(majority)"
   ]
  },
  {
   "cell_type": "code",
   "execution_count": 18,
   "id": "ae07e6e0",
   "metadata": {
    "execution": {
     "iopub.execute_input": "2023-03-24T23:45:39.650107Z",
     "iopub.status.busy": "2023-03-24T23:45:39.649692Z",
     "iopub.status.idle": "2023-03-24T23:45:39.655963Z",
     "shell.execute_reply": "2023-03-24T23:45:39.654738Z"
    },
    "papermill": {
     "duration": 0.031481,
     "end_time": "2023-03-24T23:45:39.658665",
     "exception": false,
     "start_time": "2023-03-24T23:45:39.627184",
     "status": "completed"
    },
    "tags": []
   },
   "outputs": [],
   "source": [
    "# Impute (replace) all the empty rows in the column WorkLoc with the value that you have identified as majority.\n",
    "df['WorkLoc'].fillna('Office', inplace=True)"
   ]
  },
  {
   "cell_type": "code",
   "execution_count": 19,
   "id": "042990f9",
   "metadata": {
    "execution": {
     "iopub.execute_input": "2023-03-24T23:45:39.701305Z",
     "iopub.status.busy": "2023-03-24T23:45:39.700888Z",
     "iopub.status.idle": "2023-03-24T23:45:39.710826Z",
     "shell.execute_reply": "2023-03-24T23:45:39.709838Z"
    },
    "papermill": {
     "duration": 0.03418,
     "end_time": "2023-03-24T23:45:39.713339",
     "exception": false,
     "start_time": "2023-03-24T23:45:39.679159",
     "status": "completed"
    },
    "tags": []
   },
   "outputs": [
    {
     "data": {
      "text/plain": [
       "0"
      ]
     },
     "execution_count": 19,
     "metadata": {},
     "output_type": "execute_result"
    }
   ],
   "source": [
    "# After imputation there should ideally not be any empty rows in the WorkLoc column.\n",
    "# Verify if imputing was successful.\n",
    "df['WorkLoc'].isna().sum()"
   ]
  },
  {
   "cell_type": "markdown",
   "id": "c25d63ea",
   "metadata": {
    "papermill": {
     "duration": 0.020918,
     "end_time": "2023-03-24T23:45:39.756263",
     "exception": false,
     "start_time": "2023-03-24T23:45:39.735345",
     "status": "completed"
    },
    "tags": []
   },
   "source": [
    "#### Result\n",
    "- WorkLoc have 0 nulls"
   ]
  },
  {
   "cell_type": "markdown",
   "id": "8dfa102a",
   "metadata": {
    "papermill": {
     "duration": 0.020046,
     "end_time": "2023-03-24T23:45:39.799218",
     "exception": false,
     "start_time": "2023-03-24T23:45:39.779172",
     "status": "completed"
    },
    "tags": []
   },
   "source": [
    "## Normalizing data\n",
    "There are two columns in the dataset that talk about compensation. One is \"CompFreq\". This column shows how often a developer is paid (Yearly, Monthly, Weekly). The other is \"CompTotal\". This column talks about how much the developer is paid per Year, Month, or Week depending upon his/her \"CompFreq\". This makes it difficult to compare the total compensation of the developers. In this section you will create a new column called 'NormalizedAnnualCompensation' which contains the 'Annual Compensation' irrespective of the 'CompFreq'. Once this column is ready, it makes comparison of salaries easy."
   ]
  },
  {
   "cell_type": "code",
   "execution_count": 20,
   "id": "6e810bbd",
   "metadata": {
    "execution": {
     "iopub.execute_input": "2023-03-24T23:45:39.843817Z",
     "iopub.status.busy": "2023-03-24T23:45:39.842570Z",
     "iopub.status.idle": "2023-03-24T23:45:39.853405Z",
     "shell.execute_reply": "2023-03-24T23:45:39.852137Z"
    },
    "papermill": {
     "duration": 0.036706,
     "end_time": "2023-03-24T23:45:39.856324",
     "exception": false,
     "start_time": "2023-03-24T23:45:39.819618",
     "status": "completed"
    },
    "tags": []
   },
   "outputs": [
    {
     "data": {
      "text/plain": [
       "Index(['Yearly', 'Monthly', 'Weekly'], dtype='object')"
      ]
     },
     "execution_count": 20,
     "metadata": {},
     "output_type": "execute_result"
    }
   ],
   "source": [
    "# List out the various categories in the column 'CompFreq'\n",
    "df.CompFreq.value_counts().index"
   ]
  },
  {
   "cell_type": "code",
   "execution_count": 21,
   "id": "7f9cfb1b",
   "metadata": {
    "execution": {
     "iopub.execute_input": "2023-03-24T23:45:39.899984Z",
     "iopub.status.busy": "2023-03-24T23:45:39.899515Z",
     "iopub.status.idle": "2023-03-24T23:45:39.927030Z",
     "shell.execute_reply": "2023-03-24T23:45:39.925309Z"
    },
    "papermill": {
     "duration": 0.052646,
     "end_time": "2023-03-24T23:45:39.929677",
     "exception": false,
     "start_time": "2023-03-24T23:45:39.877031",
     "status": "completed"
    },
    "tags": []
   },
   "outputs": [
    {
     "data": {
      "text/html": [
       "<div>\n",
       "<style scoped>\n",
       "    .dataframe tbody tr th:only-of-type {\n",
       "        vertical-align: middle;\n",
       "    }\n",
       "\n",
       "    .dataframe tbody tr th {\n",
       "        vertical-align: top;\n",
       "    }\n",
       "\n",
       "    .dataframe thead th {\n",
       "        text-align: right;\n",
       "    }\n",
       "</style>\n",
       "<table border=\"1\" class=\"dataframe\">\n",
       "  <thead>\n",
       "    <tr style=\"text-align: right;\">\n",
       "      <th></th>\n",
       "      <th>NormalizedAnnualCompensation</th>\n",
       "    </tr>\n",
       "  </thead>\n",
       "  <tbody>\n",
       "    <tr>\n",
       "      <th>0</th>\n",
       "      <td>61000.0</td>\n",
       "    </tr>\n",
       "    <tr>\n",
       "      <th>1</th>\n",
       "      <td>138000.0</td>\n",
       "    </tr>\n",
       "    <tr>\n",
       "      <th>2</th>\n",
       "      <td>90000.0</td>\n",
       "    </tr>\n",
       "    <tr>\n",
       "      <th>3</th>\n",
       "      <td>348000.0</td>\n",
       "    </tr>\n",
       "    <tr>\n",
       "      <th>4</th>\n",
       "      <td>90000.0</td>\n",
       "    </tr>\n",
       "    <tr>\n",
       "      <th>...</th>\n",
       "      <td>...</td>\n",
       "    </tr>\n",
       "    <tr>\n",
       "      <th>11547</th>\n",
       "      <td>130000.0</td>\n",
       "    </tr>\n",
       "    <tr>\n",
       "      <th>11548</th>\n",
       "      <td>74400.0</td>\n",
       "    </tr>\n",
       "    <tr>\n",
       "      <th>11549</th>\n",
       "      <td>105000.0</td>\n",
       "    </tr>\n",
       "    <tr>\n",
       "      <th>11550</th>\n",
       "      <td>80000.0</td>\n",
       "    </tr>\n",
       "    <tr>\n",
       "      <th>11551</th>\n",
       "      <td>NaN</td>\n",
       "    </tr>\n",
       "  </tbody>\n",
       "</table>\n",
       "<p>11398 rows × 1 columns</p>\n",
       "</div>"
      ],
      "text/plain": [
       "       NormalizedAnnualCompensation\n",
       "0                           61000.0\n",
       "1                          138000.0\n",
       "2                           90000.0\n",
       "3                          348000.0\n",
       "4                           90000.0\n",
       "...                             ...\n",
       "11547                      130000.0\n",
       "11548                       74400.0\n",
       "11549                      105000.0\n",
       "11550                       80000.0\n",
       "11551                           NaN\n",
       "\n",
       "[11398 rows x 1 columns]"
      ]
     },
     "execution_count": 21,
     "metadata": {},
     "output_type": "execute_result"
    }
   ],
   "source": [
    "# Create a new column named 'NormalizedAnnualCompensation'. Use the hint given below if needed.\n",
    "anncomp=[]\n",
    "def NAC():\n",
    "    for x,y in zip(df['CompFreq'], df['CompTotal']):\n",
    "        if x=='Monthly':\n",
    "            anncomp.append(y*12)\n",
    "        elif x=='Weekly':\n",
    "            anncomp.append(y*52)\n",
    "        else:\n",
    "            anncomp.append(y)\n",
    "NAC()\n",
    "          \n",
    "df['NormalizedAnnualCompensation']=anncomp\n",
    "df[['NormalizedAnnualCompensation']]"
   ]
  },
  {
   "cell_type": "code",
   "execution_count": 22,
   "id": "301b13c6",
   "metadata": {
    "execution": {
     "iopub.execute_input": "2023-03-24T23:45:39.974894Z",
     "iopub.status.busy": "2023-03-24T23:45:39.974147Z",
     "iopub.status.idle": "2023-03-24T23:45:39.985280Z",
     "shell.execute_reply": "2023-03-24T23:45:39.984025Z"
    },
    "papermill": {
     "duration": 0.036844,
     "end_time": "2023-03-24T23:45:39.987891",
     "exception": false,
     "start_time": "2023-03-24T23:45:39.951047",
     "status": "completed"
    },
    "tags": []
   },
   "outputs": [
    {
     "data": {
      "text/plain": [
       "60000.0     241\n",
       "120000.0    170\n",
       "70000.0     169\n",
       "90000.0     157\n",
       "100000.0    152\n",
       "           ... \n",
       "141994.0      1\n",
       "133332.0      1\n",
       "9012.0        1\n",
       "407400.0      1\n",
       "272760.0      1\n",
       "Name: NormalizedAnnualCompensation, Length: 1731, dtype: int64"
      ]
     },
     "execution_count": 22,
     "metadata": {},
     "output_type": "execute_result"
    }
   ],
   "source": [
    "# Find the value counts for the column Normalized Annual Compensation\n",
    "df['NormalizedAnnualCompensation'].value_counts()"
   ]
  },
  {
   "cell_type": "code",
   "execution_count": 23,
   "id": "6a95614d",
   "metadata": {
    "execution": {
     "iopub.execute_input": "2023-03-24T23:45:40.035052Z",
     "iopub.status.busy": "2023-03-24T23:45:40.033660Z",
     "iopub.status.idle": "2023-03-24T23:45:40.043140Z",
     "shell.execute_reply": "2023-03-24T23:45:40.041581Z"
    },
    "papermill": {
     "duration": 0.036416,
     "end_time": "2023-03-24T23:45:40.046633",
     "exception": false,
     "start_time": "2023-03-24T23:45:40.010217",
     "status": "completed"
    },
    "tags": []
   },
   "outputs": [
    {
     "name": "stdout",
     "output_type": "stream",
     "text": [
      "100000.0\n"
     ]
    }
   ],
   "source": [
    "# Median NormalizedAnnualCompensation\n",
    "median_anncomp = df['NormalizedAnnualCompensation'].median()\n",
    "\n",
    "print(median_anncomp)"
   ]
  },
  {
   "cell_type": "code",
   "execution_count": 24,
   "id": "1d18bf69",
   "metadata": {
    "execution": {
     "iopub.execute_input": "2023-03-24T23:45:40.091522Z",
     "iopub.status.busy": "2023-03-24T23:45:40.090682Z",
     "iopub.status.idle": "2023-03-24T23:45:40.097663Z",
     "shell.execute_reply": "2023-03-24T23:45:40.095779Z"
    },
    "papermill": {
     "duration": 0.032098,
     "end_time": "2023-03-24T23:45:40.100216",
     "exception": false,
     "start_time": "2023-03-24T23:45:40.068118",
     "status": "completed"
    },
    "tags": []
   },
   "outputs": [
    {
     "name": "stdout",
     "output_type": "stream",
     "text": [
      "6133295.029936727\n"
     ]
    }
   ],
   "source": [
    "# Mean NormalizedAnnualCompensation\n",
    "mean_anncomp = df['NormalizedAnnualCompensation'].mean()\n",
    "\n",
    "print(mean_anncomp)"
   ]
  },
  {
   "cell_type": "markdown",
   "id": "ed16cbcc",
   "metadata": {
    "papermill": {
     "duration": 0.020967,
     "end_time": "2023-03-24T23:45:40.142294",
     "exception": false,
     "start_time": "2023-03-24T23:45:40.121327",
     "status": "completed"
    },
    "tags": []
   },
   "source": [
    "#### Key takeaways:\n",
    "\n",
    "- The column 'NormalizedAnnualCompensation' represents the annual compensation of the survey respondents.\n",
    "- The most common compensation value is US 60,000.00 with 241 counts, followed by US 120,000.00 with 170 counts.\n",
    "- The median compensation is US 100,000.00.\n",
    "- The mean compensation seems to be an error, as it is calculated to be US 6,133,295.03 which is unrealistic. This could be due to outliers or data entry errors."
   ]
  },
  {
   "cell_type": "markdown",
   "id": "284dc32d",
   "metadata": {
    "papermill": {
     "duration": 0.020284,
     "end_time": "2023-03-24T23:45:40.183413",
     "exception": false,
     "start_time": "2023-03-24T23:45:40.163129",
     "status": "completed"
    },
    "tags": []
   },
   "source": [
    "# Data Analysis & Visualization\n",
    "NOTE: The data set althoght the same will be presented to you in the form of a RDBMS. Will use SQL queries to extract the data.\n",
    "\n",
    "Objectives\n",
    "- Visualize the distribution of data.\n",
    "- Visualize the relationship between features.\n",
    "- Visualize composition of data.\n",
    "- Visualize comparison of data."
   ]
  },
  {
   "cell_type": "code",
   "execution_count": 25,
   "id": "a292e62d",
   "metadata": {
    "execution": {
     "iopub.execute_input": "2023-03-24T23:45:40.227574Z",
     "iopub.status.busy": "2023-03-24T23:45:40.226379Z",
     "iopub.status.idle": "2023-03-24T23:45:42.451499Z",
     "shell.execute_reply": "2023-03-24T23:45:42.449883Z"
    },
    "papermill": {
     "duration": 2.250381,
     "end_time": "2023-03-24T23:45:42.454474",
     "exception": false,
     "start_time": "2023-03-24T23:45:40.204093",
     "status": "completed"
    },
    "tags": []
   },
   "outputs": [
    {
     "name": "stdout",
     "output_type": "stream",
     "text": [
      "--2023-03-24 23:45:41--  https://cf-courses-data.s3.us.cloud-object-storage.appdomain.cloud/IBM-DA0321EN-SkillsNetwork/LargeData/m4_survey_data.sqlite\r\n",
      "Resolving cf-courses-data.s3.us.cloud-object-storage.appdomain.cloud (cf-courses-data.s3.us.cloud-object-storage.appdomain.cloud)... 169.63.118.104\r\n",
      "Connecting to cf-courses-data.s3.us.cloud-object-storage.appdomain.cloud (cf-courses-data.s3.us.cloud-object-storage.appdomain.cloud)|169.63.118.104|:443... connected.\r\n",
      "HTTP request sent, awaiting response... 200 OK\r\n",
      "Length: 36679680 (35M) [application/octet-stream]\r\n",
      "Saving to: ‘m4_survey_data.sqlite’\r\n",
      "\r\n",
      "m4_survey_data.sqli 100%[===================>]  34.98M  43.9MB/s    in 0.8s    \r\n",
      "\r\n",
      "2023-03-24 23:45:42 (43.9 MB/s) - ‘m4_survey_data.sqlite’ saved [36679680/36679680]\r\n",
      "\r\n"
     ]
    }
   ],
   "source": [
    "# Download database file.\n",
    "!wget https://cf-courses-data.s3.us.cloud-object-storage.appdomain.cloud/IBM-DA0321EN-SkillsNetwork/LargeData/m4_survey_data.sqlite"
   ]
  },
  {
   "cell_type": "code",
   "execution_count": 26,
   "id": "07d9c20f",
   "metadata": {
    "execution": {
     "iopub.execute_input": "2023-03-24T23:45:42.503613Z",
     "iopub.status.busy": "2023-03-24T23:45:42.503101Z",
     "iopub.status.idle": "2023-03-24T23:45:42.509460Z",
     "shell.execute_reply": "2023-03-24T23:45:42.508441Z"
    },
    "papermill": {
     "duration": 0.031657,
     "end_time": "2023-03-24T23:45:42.511863",
     "exception": false,
     "start_time": "2023-03-24T23:45:42.480206",
     "status": "completed"
    },
    "tags": []
   },
   "outputs": [],
   "source": [
    "# Open a database connection\n",
    "import sqlite3\n",
    "conn = sqlite3.connect(\"m4_survey_data.sqlite\") "
   ]
  },
  {
   "cell_type": "markdown",
   "id": "343690cd",
   "metadata": {
    "papermill": {
     "duration": 0.021081,
     "end_time": "2023-03-24T23:45:42.553698",
     "exception": false,
     "start_time": "2023-03-24T23:45:42.532617",
     "status": "completed"
    },
    "tags": []
   },
   "source": [
    "## Visualizing distribution of data"
   ]
  },
  {
   "cell_type": "markdown",
   "id": "383d02b9",
   "metadata": {
    "papermill": {
     "duration": 0.02162,
     "end_time": "2023-03-24T23:45:42.596276",
     "exception": false,
     "start_time": "2023-03-24T23:45:42.574656",
     "status": "completed"
    },
    "tags": []
   },
   "source": [
    "### Histogram"
   ]
  },
  {
   "cell_type": "code",
   "execution_count": 27,
   "id": "b1380c45",
   "metadata": {
    "execution": {
     "iopub.execute_input": "2023-03-24T23:45:42.641452Z",
     "iopub.status.busy": "2023-03-24T23:45:42.641042Z",
     "iopub.status.idle": "2023-03-24T23:45:43.938836Z",
     "shell.execute_reply": "2023-03-24T23:45:43.937448Z"
    },
    "papermill": {
     "duration": 1.324009,
     "end_time": "2023-03-24T23:45:43.941879",
     "exception": false,
     "start_time": "2023-03-24T23:45:42.617870",
     "status": "completed"
    },
    "tags": []
   },
   "outputs": [],
   "source": [
    "## Visualization Modules\n",
    "import seaborn as sns\n",
    "import matplotlib.pyplot as plt\n",
    "import matplotlib.ticker as mtick\n"
   ]
  },
  {
   "cell_type": "code",
   "execution_count": 28,
   "id": "0a92f8df",
   "metadata": {
    "execution": {
     "iopub.execute_input": "2023-03-24T23:45:43.987708Z",
     "iopub.status.busy": "2023-03-24T23:45:43.987252Z",
     "iopub.status.idle": "2023-03-24T23:45:44.398109Z",
     "shell.execute_reply": "2023-03-24T23:45:44.396680Z"
    },
    "papermill": {
     "duration": 0.437419,
     "end_time": "2023-03-24T23:45:44.401245",
     "exception": false,
     "start_time": "2023-03-24T23:45:43.963826",
     "status": "completed"
    },
    "tags": []
   },
   "outputs": [
    {
     "name": "stderr",
     "output_type": "stream",
     "text": [
      "/opt/conda/lib/python3.7/site-packages/ipykernel_launcher.py:9: UserWarning: FixedFormatter should only be used together with FixedLocator\n",
      "  if __name__ == \"__main__\":\n"
     ]
    },
    {
     "data": {
      "image/png": "[encoded data removed]",
      "text/plain": [
       "<Figure size 640x480 with 1 Axes>"
      ]
     },
     "metadata": {},
     "output_type": "display_data"
    }
   ],
   "source": [
    "QUERY = \"\"\"\n",
    "SELECT ConvertedComp\n",
    "FROM master\n",
    "\"\"\"\n",
    "df = pd.read_sql_query(QUERY, conn)\n",
    "\n",
    "fig, ax = plt.subplots()\n",
    "sns.histplot(df['ConvertedComp'], ax=ax, bins=50)\n",
    "ax.set_xticklabels(['{:.0f}K'.format(x/1000) for x in ax.get_xticks()])\n",
    "ax.set_title('Distribution of Normalized Annual Compensation')\n",
    "plt.show()\n"
   ]
  },
  {
   "cell_type": "markdown",
   "id": "2f94f442",
   "metadata": {
    "papermill": {
     "duration": 0.021504,
     "end_time": "2023-03-24T23:45:44.445093",
     "exception": false,
     "start_time": "2023-03-24T23:45:44.423589",
     "status": "completed"
    },
    "tags": []
   },
   "source": [
    "#### Highlights\n",
    "- Most respondents earn an annual compensation converted to US dollars between 0K and 100K.\n",
    "- There are a few outliers earning over a million US dollars a year.\n"
   ]
  },
  {
   "cell_type": "markdown",
   "id": "3b49ecf8",
   "metadata": {
    "papermill": {
     "duration": 0.021417,
     "end_time": "2023-03-24T23:45:44.488925",
     "exception": false,
     "start_time": "2023-03-24T23:45:44.467508",
     "status": "completed"
    },
    "tags": []
   },
   "source": [
    "### Box Plots"
   ]
  },
  {
   "cell_type": "code",
   "execution_count": 29,
   "id": "ff335e16",
   "metadata": {
    "execution": {
     "iopub.execute_input": "2023-03-24T23:45:44.534765Z",
     "iopub.status.busy": "2023-03-24T23:45:44.533907Z",
     "iopub.status.idle": "2023-03-24T23:45:44.755412Z",
     "shell.execute_reply": "2023-03-24T23:45:44.753985Z"
    },
    "papermill": {
     "duration": 0.247904,
     "end_time": "2023-03-24T23:45:44.758443",
     "exception": false,
     "start_time": "2023-03-24T23:45:44.510539",
     "status": "completed"
    },
    "tags": []
   },
   "outputs": [
    {
     "data": {
      "text/plain": [
       "Text(0.5, 1.0, 'Distribution of Respondents Age')"
      ]
     },
     "execution_count": 29,
     "metadata": {},
     "output_type": "execute_result"
    },
    {
     "data": {
      "image/png": "[encoded data removed]",
      "text/plain": [
       "<Figure size 640x480 with 1 Axes>"
      ]
     },
     "metadata": {},
     "output_type": "display_data"
    }
   ],
   "source": [
    "# Plot a box plot of Age.\n",
    "QUERY = \"\"\"\n",
    "SELECT Age\n",
    "FROM master\n",
    "\"\"\"\n",
    "df_Age = pd.read_sql_query(QUERY, conn)\n",
    "\n",
    "ax = sns.boxplot(x=df_Age['Age'])\n",
    "\n",
    "# Set the title of the box plot\n",
    "ax.set_title('Distribution of Respondents Age')\n"
   ]
  },
  {
   "cell_type": "markdown",
   "id": "c62550d0",
   "metadata": {
    "papermill": {
     "duration": 0.021817,
     "end_time": "2023-03-24T23:45:44.802682",
     "exception": false,
     "start_time": "2023-03-24T23:45:44.780865",
     "status": "completed"
    },
    "tags": []
   },
   "source": [
    "#### Highlights\n",
    "- Some respondents are younger than 20 years old.\n",
    "- There are a few outliers with ages greater than 50 years old, including one respondent who is almost 100 years old."
   ]
  },
  {
   "cell_type": "code",
   "execution_count": 30,
   "id": "7c0daa8f",
   "metadata": {
    "execution": {
     "iopub.execute_input": "2023-03-24T23:45:44.849381Z",
     "iopub.status.busy": "2023-03-24T23:45:44.848970Z",
     "iopub.status.idle": "2023-03-24T23:45:44.853633Z",
     "shell.execute_reply": "2023-03-24T23:45:44.852582Z"
    },
    "papermill": {
     "duration": 0.031365,
     "end_time": "2023-03-24T23:45:44.856133",
     "exception": false,
     "start_time": "2023-03-24T23:45:44.824768",
     "status": "completed"
    },
    "tags": []
   },
   "outputs": [],
   "source": [
    "## Visualizing relationships in data"
   ]
  },
  {
   "cell_type": "markdown",
   "id": "1572b8a0",
   "metadata": {
    "papermill": {
     "duration": 0.021591,
     "end_time": "2023-03-24T23:45:44.899794",
     "exception": false,
     "start_time": "2023-03-24T23:45:44.878203",
     "status": "completed"
    },
    "tags": []
   },
   "source": [
    "### Scatter Plots"
   ]
  },
  {
   "cell_type": "code",
   "execution_count": 31,
   "id": "4da4bdf9",
   "metadata": {
    "execution": {
     "iopub.execute_input": "2023-03-24T23:45:44.946685Z",
     "iopub.status.busy": "2023-03-24T23:45:44.946203Z",
     "iopub.status.idle": "2023-03-24T23:45:45.268657Z",
     "shell.execute_reply": "2023-03-24T23:45:45.267131Z"
    },
    "papermill": {
     "duration": 0.349574,
     "end_time": "2023-03-24T23:45:45.271554",
     "exception": false,
     "start_time": "2023-03-24T23:45:44.921980",
     "status": "completed"
    },
    "tags": []
   },
   "outputs": [
    {
     "data": {
      "text/plain": [
       "Text(0.5, 1.0, 'Age vs Hours works per week')"
      ]
     },
     "execution_count": 31,
     "metadata": {},
     "output_type": "execute_result"
    },
    {
     "data": {
      "image/png": "[encoded data removed]",
      "text/plain": [
       "<Figure size 640x480 with 1 Axes>"
      ]
     },
     "metadata": {},
     "output_type": "display_data"
    }
   ],
   "source": [
    "# Create a scatter plot of Age and WorkWeekHrs.\n",
    "\n",
    "QUERY = \"\"\"\n",
    "SELECT Age, WorkWeekHrs\n",
    "FROM master\n",
    "\"\"\"\n",
    "df = pd.read_sql_query(QUERY, conn)\n",
    "ax = sns.scatterplot(data=df, x='Age', y='WorkWeekHrs')\n",
    "\n",
    "# Set the title of the box plot\n",
    "ax.set_title('Age vs Hours works per week')"
   ]
  },
  {
   "cell_type": "markdown",
   "id": "2cbfa6de",
   "metadata": {
    "papermill": {
     "duration": 0.022612,
     "end_time": "2023-03-24T23:45:45.317220",
     "exception": false,
     "start_time": "2023-03-24T23:45:45.294608",
     "status": "completed"
    },
    "tags": []
   },
   "source": [
    "#### Highlight\n",
    "- Positive correlation between hour works per week and Age\n",
    "- The Plot doesnt show a strong correlation"
   ]
  },
  {
   "cell_type": "markdown",
   "id": "69c5b99f",
   "metadata": {
    "papermill": {
     "duration": 0.022626,
     "end_time": "2023-03-24T23:45:45.362879",
     "exception": false,
     "start_time": "2023-03-24T23:45:45.340253",
     "status": "completed"
    },
    "tags": []
   },
   "source": [
    "### Bubble Plots"
   ]
  },
  {
   "cell_type": "code",
   "execution_count": 32,
   "id": "f255abd7",
   "metadata": {
    "execution": {
     "iopub.execute_input": "2023-03-24T23:45:45.411443Z",
     "iopub.status.busy": "2023-03-24T23:45:45.410530Z",
     "iopub.status.idle": "2023-03-24T23:45:46.491085Z",
     "shell.execute_reply": "2023-03-24T23:45:46.490005Z"
    },
    "papermill": {
     "duration": 1.10821,
     "end_time": "2023-03-24T23:45:46.493734",
     "exception": false,
     "start_time": "2023-03-24T23:45:45.385524",
     "status": "completed"
    },
    "tags": []
   },
   "outputs": [
    {
     "data": {
      "text/plain": [
       "Text(0.5, 1.0, 'Hours works per week vs Hours spend reviewing code written by others.')"
      ]
     },
     "execution_count": 32,
     "metadata": {},
     "output_type": "execute_result"
    },
    {
     "data": {
      "image/png": "[encoded data removed]",
      "text/plain": [
       "<Figure size 640x480 with 1 Axes>"
      ]
     },
     "metadata": {},
     "output_type": "display_data"
    }
   ],
   "source": [
    "# Create a bubble plot of WorkWeekHrs and CodeRevHrs, use Age column as bubble size.\n",
    "QUERY = \"\"\"\n",
    "SELECT Age, WorkWeekHrs, CodeRevHrs\n",
    "FROM master\n",
    "\"\"\"\n",
    "df = pd.read_sql_query(QUERY, conn)\n",
    "ax = sns.scatterplot(data=df, x='WorkWeekHrs', y='CodeRevHrs', size='Age', hue='Age', sizes=(20,200))\n",
    "\n",
    "# Set the title of the box plot\n",
    "ax.set_title('Hours works per week vs Hours spend reviewing code written by others.')"
   ]
  },
  {
   "cell_type": "markdown",
   "id": "824b90dc",
   "metadata": {
    "papermill": {
     "duration": 0.023755,
     "end_time": "2023-03-24T23:45:46.542149",
     "exception": false,
     "start_time": "2023-03-24T23:45:46.518394",
     "status": "completed"
    },
    "tags": []
   },
   "source": [
    "#### Highlight\n",
    "The survey results indicate that developers who are 30 years old spend the most time reviewing code written by others, averaging around 100 hours per mon"
   ]
  },
  {
   "cell_type": "code",
   "execution_count": 33,
   "id": "38139737",
   "metadata": {
    "execution": {
     "iopub.execute_input": "2023-03-24T23:45:46.593506Z",
     "iopub.status.busy": "2023-03-24T23:45:46.592731Z",
     "iopub.status.idle": "2023-03-24T23:45:47.389357Z",
     "shell.execute_reply": "2023-03-24T23:45:47.388052Z"
    },
    "papermill": {
     "duration": 0.825906,
     "end_time": "2023-03-24T23:45:47.392592",
     "exception": false,
     "start_time": "2023-03-24T23:45:46.566686",
     "status": "completed"
    },
    "tags": []
   },
   "outputs": [
    {
     "name": "stderr",
     "output_type": "stream",
     "text": [
      "/opt/conda/lib/python3.7/site-packages/ipykernel_launcher.py:8: UserWarning: FixedFormatter should only be used together with FixedLocator\n",
      "  \n"
     ]
    },
    {
     "data": {
      "text/plain": [
       "Text(0.5, 1.0, 'Normalized Annual Compensation by Age for Respondents Aged 30-35')"
      ]
     },
     "execution_count": 33,
     "metadata": {},
     "output_type": "execute_result"
    },
    {
     "data": {
      "image/png": "[encoded data removed]",
      "text/plain": [
       "<Figure size 640x480 with 1 Axes>"
      ]
     },
     "metadata": {},
     "output_type": "display_data"
    }
   ],
   "source": [
    "QUERY = \"\"\"\n",
    "SELECT Age, ConvertedComp\n",
    "FROM master\n",
    "WHERE Age >= 30 AND Age <= 35\n",
    "\"\"\"\n",
    "df = pd.read_sql_query(QUERY, conn)\n",
    "ax = sns.scatterplot(data=df, x='Age', y='ConvertedComp', size='Age', hue='Age', sizes=(20,200))\n",
    "ax.set_yticklabels(['{:.0f}K'.format(y/1000) for y in ax.get_yticks()])\n",
    "# Set the title of the box plot\n",
    "ax.set_title('Normalized Annual Compensation by Age for Respondents Aged 30-35')"
   ]
  },
  {
   "cell_type": "markdown",
   "id": "79864bbd",
   "metadata": {
    "papermill": {
     "duration": 0.025263,
     "end_time": "2023-03-24T23:45:47.443383",
     "exception": false,
     "start_time": "2023-03-24T23:45:47.418120",
     "status": "completed"
    },
    "tags": []
   },
   "source": [
    "#### Highlight\n",
    "The compensation for respondents between the ages of 30-35 ranges between 0Ks and 2000Ks."
   ]
  },
  {
   "cell_type": "markdown",
   "id": "31f03905",
   "metadata": {
    "papermill": {
     "duration": 0.025861,
     "end_time": "2023-03-24T23:45:47.494884",
     "exception": false,
     "start_time": "2023-03-24T23:45:47.469023",
     "status": "completed"
    },
    "tags": []
   },
   "source": [
    "## Visualizing composition of data"
   ]
  },
  {
   "cell_type": "markdown",
   "id": "392be608",
   "metadata": {
    "papermill": {
     "duration": 0.025222,
     "end_time": "2023-03-24T23:45:47.545691",
     "exception": false,
     "start_time": "2023-03-24T23:45:47.520469",
     "status": "completed"
    },
    "tags": []
   },
   "source": [
    "### Pie Chart - Top 5 Databases Respondents Wish to Learn Next Year"
   ]
  },
  {
   "cell_type": "code",
   "execution_count": 34,
   "id": "10994d3a",
   "metadata": {
    "execution": {
     "iopub.execute_input": "2023-03-24T23:45:47.598844Z",
     "iopub.status.busy": "2023-03-24T23:45:47.598409Z",
     "iopub.status.idle": "2023-03-24T23:45:47.806136Z",
     "shell.execute_reply": "2023-03-24T23:45:47.804315Z"
    },
    "papermill": {
     "duration": 0.24037,
     "end_time": "2023-03-24T23:45:47.811606",
     "exception": false,
     "start_time": "2023-03-24T23:45:47.571236",
     "status": "completed"
    },
    "tags": []
   },
   "outputs": [
    {
     "data": {
      "image/png": "[encoded data removed]",
      "text/plain": [
       "<Figure size 640x480 with 1 Axes>"
      ]
     },
     "metadata": {},
     "output_type": "display_data"
    }
   ],
   "source": [
    "## Create a pie chart of the top 5 databases that respondents wish to learn next year. Label the pie chart with database names. Display percentages of each database on the pie chart.\n",
    "%matplotlib inline\n",
    "\n",
    "QUERY = \"\"\"\n",
    "SELECT DatabaseDesireNextYear, count(*) as c1\n",
    "FROM DataBaseDesireNextYear\n",
    "group by DatabaseDesireNextYear\n",
    "order by c1 DESC\n",
    "\"\"\"\n",
    "df = pd.read_sql_query(QUERY, conn)\n",
    "\n",
    "# Create the chart\n",
    "labels = df['DatabaseDesireNextYear'].head(5)\n",
    "sizes = df['c1'].head(5)\n",
    "explode = (0,0,0,0,0.1)\n",
    "\n",
    "fig1, ax1 = plt.subplots()\n",
    "ax1.set_title('Top 5 Databases Respondents Wish to Learn Next Year', fontsize=12)\n",
    "ax1.pie(sizes, explode=explode, labels=labels, autopct='%1.1f%%', shadow=True, startangle=90)\n",
    "ax1.axis('equal') # equal so pie will be drawn as circle\n",
    "\n",
    "plt.show()"
   ]
  },
  {
   "cell_type": "markdown",
   "id": "76d9d643",
   "metadata": {
    "papermill": {
     "duration": 0.026669,
     "end_time": "2023-03-24T23:45:47.877855",
     "exception": false,
     "start_time": "2023-03-24T23:45:47.851186",
     "status": "completed"
    },
    "tags": []
   },
   "source": [
    "#### Hightlight\n",
    "- PostgreSQL is the most desire language by respondents for next year\n",
    "- Follow by MondoDB, Redis, MySQL and Elasticsearch"
   ]
  },
  {
   "cell_type": "markdown",
   "id": "437dcf53",
   "metadata": {
    "papermill": {
     "duration": 0.026363,
     "end_time": "2023-03-24T23:45:47.931050",
     "exception": false,
     "start_time": "2023-03-24T23:45:47.904687",
     "status": "completed"
    },
    "tags": []
   },
   "source": [
    "### Pie Chart - Top 5 Databases Repondents work with"
   ]
  },
  {
   "cell_type": "code",
   "execution_count": 35,
   "id": "4953bf51",
   "metadata": {
    "execution": {
     "iopub.execute_input": "2023-03-24T23:45:47.986660Z",
     "iopub.status.busy": "2023-03-24T23:45:47.985868Z",
     "iopub.status.idle": "2023-03-24T23:45:48.195781Z",
     "shell.execute_reply": "2023-03-24T23:45:48.194312Z"
    },
    "papermill": {
     "duration": 0.24128,
     "end_time": "2023-03-24T23:45:48.198975",
     "exception": false,
     "start_time": "2023-03-24T23:45:47.957695",
     "status": "completed"
    },
    "tags": []
   },
   "outputs": [
    {
     "data": {
      "image/png": "[encoded data removed]",
      "text/plain": [
       "<Figure size 640x480 with 1 Axes>"
      ]
     },
     "metadata": {},
     "output_type": "display_data"
    }
   ],
   "source": [
    "## Top Databases to work with by respondants\n",
    "QUERY = \"\"\"\n",
    "SELECT DatabaseWorkedWith, count(*) as c1\n",
    "FROM DatabaseWorkedWith\n",
    "group by DatabaseWorkedWith\n",
    "order by c1 DESC\n",
    "\"\"\"\n",
    "df = pd.read_sql_query(QUERY, conn)\n",
    "\n",
    "# Create the chart\n",
    "labels = df['DatabaseWorkedWith'].head(5)\n",
    "sizes = df['c1'].head(5)\n",
    "explode = (0,0,0,0,0.1)\n",
    "\n",
    "fig1, ax1 = plt.subplots()\n",
    "ax1.set_title('Top 5 Databases Repondents work with', fontsize=12)\n",
    "ax1.pie(sizes, explode=explode, labels=labels, autopct='%1.1f%%', shadow=True, startangle=90)\n",
    "ax1.axis('equal') # equal so pie will be drawn as circle\n",
    "\n",
    "plt.show()"
   ]
  },
  {
   "cell_type": "markdown",
   "id": "e63f164c",
   "metadata": {
    "papermill": {
     "duration": 0.027111,
     "end_time": "2023-03-24T23:45:48.254657",
     "exception": false,
     "start_time": "2023-03-24T23:45:48.227546",
     "status": "completed"
    },
    "tags": []
   },
   "source": [
    "#### Hightlight\n",
    "- Must respondents work with MySQL\n",
    "- Follow by Microsft SQL Server, PostgreSQL, SQLite and MongDB"
   ]
  },
  {
   "cell_type": "markdown",
   "id": "4d65f4f9",
   "metadata": {
    "papermill": {
     "duration": 0.027022,
     "end_time": "2023-03-24T23:45:48.309254",
     "exception": false,
     "start_time": "2023-03-24T23:45:48.282232",
     "status": "completed"
    },
    "tags": []
   },
   "source": [
    "### Top 5 Languages desire by respondants next year"
   ]
  },
  {
   "cell_type": "code",
   "execution_count": 36,
   "id": "ba6c679b",
   "metadata": {
    "execution": {
     "iopub.execute_input": "2023-03-24T23:45:48.367680Z",
     "iopub.status.busy": "2023-03-24T23:45:48.366215Z",
     "iopub.status.idle": "2023-03-24T23:45:48.407551Z",
     "shell.execute_reply": "2023-03-24T23:45:48.406400Z"
    },
    "papermill": {
     "duration": 0.072706,
     "end_time": "2023-03-24T23:45:48.410096",
     "exception": false,
     "start_time": "2023-03-24T23:45:48.337390",
     "status": "completed"
    },
    "tags": []
   },
   "outputs": [
    {
     "data": {
      "text/html": [
       "<div>\n",
       "<style scoped>\n",
       "    .dataframe tbody tr th:only-of-type {\n",
       "        vertical-align: middle;\n",
       "    }\n",
       "\n",
       "    .dataframe tbody tr th {\n",
       "        vertical-align: top;\n",
       "    }\n",
       "\n",
       "    .dataframe thead th {\n",
       "        text-align: right;\n",
       "    }\n",
       "</style>\n",
       "<table border=\"1\" class=\"dataframe\">\n",
       "  <thead>\n",
       "    <tr style=\"text-align: right;\">\n",
       "      <th></th>\n",
       "      <th>LanguageDesireNextYear</th>\n",
       "      <th>c1</th>\n",
       "    </tr>\n",
       "  </thead>\n",
       "  <tbody>\n",
       "    <tr>\n",
       "      <th>0</th>\n",
       "      <td>JavaScript</td>\n",
       "      <td>6630</td>\n",
       "    </tr>\n",
       "    <tr>\n",
       "      <th>1</th>\n",
       "      <td>HTML/CSS</td>\n",
       "      <td>5328</td>\n",
       "    </tr>\n",
       "    <tr>\n",
       "      <th>2</th>\n",
       "      <td>Python</td>\n",
       "      <td>5239</td>\n",
       "    </tr>\n",
       "    <tr>\n",
       "      <th>3</th>\n",
       "      <td>SQL</td>\n",
       "      <td>5012</td>\n",
       "    </tr>\n",
       "    <tr>\n",
       "      <th>4</th>\n",
       "      <td>TypeScript</td>\n",
       "      <td>4088</td>\n",
       "    </tr>\n",
       "  </tbody>\n",
       "</table>\n",
       "</div>"
      ],
      "text/plain": [
       "  LanguageDesireNextYear    c1\n",
       "0             JavaScript  6630\n",
       "1               HTML/CSS  5328\n",
       "2                 Python  5239\n",
       "3                    SQL  5012\n",
       "4             TypeScript  4088"
      ]
     },
     "execution_count": 36,
     "metadata": {},
     "output_type": "execute_result"
    }
   ],
   "source": [
    "## Top Languages desire by respondants next year\n",
    "QUERY = \"\"\"\n",
    "SELECT LanguageDesireNextYear, count(*) as c1\n",
    "FROM LanguageDesireNextYear\n",
    "group by LanguageDesireNextYear\n",
    "order by c1 DESC\n",
    "\"\"\"\n",
    "df = pd.read_sql_query(QUERY, conn)\n",
    "df.head()"
   ]
  },
  {
   "cell_type": "markdown",
   "id": "a743d2e1",
   "metadata": {
    "papermill": {
     "duration": 0.028692,
     "end_time": "2023-03-24T23:45:48.466003",
     "exception": false,
     "start_time": "2023-03-24T23:45:48.437311",
     "status": "completed"
    },
    "tags": []
   },
   "source": [
    "#### Hightlight\n",
    "- The top 5 languages that respondents wish to learn next year, based on the data, are JavaScript, HTML/CSS, Python, SQL, and TypeScript. \n",
    "- JavaScript is the most desired language with 6630 responses, followed by HTML/CSS with 5328 responses, Python with 5239 responses, SQL with 5012 responses, and TypeScript with 4088 responses.\n"
   ]
  },
  {
   "cell_type": "markdown",
   "id": "6b9458dc",
   "metadata": {
    "papermill": {
     "duration": 0.027247,
     "end_time": "2023-03-24T23:45:48.521215",
     "exception": false,
     "start_time": "2023-03-24T23:45:48.493968",
     "status": "completed"
    },
    "tags": []
   },
   "source": [
    "### Top 5 Languages to work with by respondants"
   ]
  },
  {
   "cell_type": "code",
   "execution_count": 37,
   "id": "b3f790bc",
   "metadata": {
    "execution": {
     "iopub.execute_input": "2023-03-24T23:45:48.579867Z",
     "iopub.status.busy": "2023-03-24T23:45:48.579430Z",
     "iopub.status.idle": "2023-03-24T23:45:48.623277Z",
     "shell.execute_reply": "2023-03-24T23:45:48.622269Z"
    },
    "papermill": {
     "duration": 0.075615,
     "end_time": "2023-03-24T23:45:48.626030",
     "exception": false,
     "start_time": "2023-03-24T23:45:48.550415",
     "status": "completed"
    },
    "tags": []
   },
   "outputs": [
    {
     "data": {
      "text/html": [
       "<div>\n",
       "<style scoped>\n",
       "    .dataframe tbody tr th:only-of-type {\n",
       "        vertical-align: middle;\n",
       "    }\n",
       "\n",
       "    .dataframe tbody tr th {\n",
       "        vertical-align: top;\n",
       "    }\n",
       "\n",
       "    .dataframe thead th {\n",
       "        text-align: right;\n",
       "    }\n",
       "</style>\n",
       "<table border=\"1\" class=\"dataframe\">\n",
       "  <thead>\n",
       "    <tr style=\"text-align: right;\">\n",
       "      <th></th>\n",
       "      <th>LanguageWorkedWith</th>\n",
       "      <th>c1</th>\n",
       "    </tr>\n",
       "  </thead>\n",
       "  <tbody>\n",
       "    <tr>\n",
       "      <th>0</th>\n",
       "      <td>JavaScript</td>\n",
       "      <td>8687</td>\n",
       "    </tr>\n",
       "    <tr>\n",
       "      <th>1</th>\n",
       "      <td>HTML/CSS</td>\n",
       "      <td>7830</td>\n",
       "    </tr>\n",
       "    <tr>\n",
       "      <th>2</th>\n",
       "      <td>SQL</td>\n",
       "      <td>7106</td>\n",
       "    </tr>\n",
       "    <tr>\n",
       "      <th>3</th>\n",
       "      <td>Bash/Shell/PowerShell</td>\n",
       "      <td>4642</td>\n",
       "    </tr>\n",
       "    <tr>\n",
       "      <th>4</th>\n",
       "      <td>Python</td>\n",
       "      <td>4542</td>\n",
       "    </tr>\n",
       "  </tbody>\n",
       "</table>\n",
       "</div>"
      ],
      "text/plain": [
       "      LanguageWorkedWith    c1\n",
       "0             JavaScript  8687\n",
       "1               HTML/CSS  7830\n",
       "2                    SQL  7106\n",
       "3  Bash/Shell/PowerShell  4642\n",
       "4                 Python  4542"
      ]
     },
     "execution_count": 37,
     "metadata": {},
     "output_type": "execute_result"
    }
   ],
   "source": [
    "## Top Languages to work with by respondants\n",
    "QUERY = \"\"\"\n",
    "SELECT LanguageWorkedWith, count(*) as c1\n",
    "FROM LanguageWorkedWith\n",
    "group by LanguageWorkedWith\n",
    "order by c1 DESC\n",
    "\"\"\"\n",
    "df = pd.read_sql_query(QUERY, conn)\n",
    "df.head()"
   ]
  },
  {
   "cell_type": "markdown",
   "id": "688fdeee",
   "metadata": {
    "papermill": {
     "duration": 0.027342,
     "end_time": "2023-03-24T23:45:48.682098",
     "exception": false,
     "start_time": "2023-03-24T23:45:48.654756",
     "status": "completed"
    },
    "tags": []
   },
   "source": [
    "#### Highlight\n",
    "The top 5 programming languages are:\n",
    "\n",
    "- JavaScript with 8687 respondents\n",
    "- HTML/CSS with 7830 respondents\n",
    "- SQL with 7106 respondents\n",
    "- Bash/Shell/PowerShell with 4642 respondents\n",
    "- Python with 4542 respondents."
   ]
  },
  {
   "cell_type": "markdown",
   "id": "149ffe56",
   "metadata": {
    "papermill": {
     "duration": 0.027187,
     "end_time": "2023-03-24T23:45:48.736987",
     "exception": false,
     "start_time": "2023-03-24T23:45:48.709800",
     "status": "completed"
    },
    "tags": []
   },
   "source": [
    "### Top 5 Platforms desire by respondants next year"
   ]
  },
  {
   "cell_type": "code",
   "execution_count": 38,
   "id": "de21352e",
   "metadata": {
    "execution": {
     "iopub.execute_input": "2023-03-24T23:45:48.793937Z",
     "iopub.status.busy": "2023-03-24T23:45:48.793520Z",
     "iopub.status.idle": "2023-03-24T23:45:48.827757Z",
     "shell.execute_reply": "2023-03-24T23:45:48.826387Z"
    },
    "papermill": {
     "duration": 0.065971,
     "end_time": "2023-03-24T23:45:48.830432",
     "exception": false,
     "start_time": "2023-03-24T23:45:48.764461",
     "status": "completed"
    },
    "tags": []
   },
   "outputs": [
    {
     "data": {
      "text/html": [
       "<div>\n",
       "<style scoped>\n",
       "    .dataframe tbody tr th:only-of-type {\n",
       "        vertical-align: middle;\n",
       "    }\n",
       "\n",
       "    .dataframe tbody tr th {\n",
       "        vertical-align: top;\n",
       "    }\n",
       "\n",
       "    .dataframe thead th {\n",
       "        text-align: right;\n",
       "    }\n",
       "</style>\n",
       "<table border=\"1\" class=\"dataframe\">\n",
       "  <thead>\n",
       "    <tr style=\"text-align: right;\">\n",
       "      <th></th>\n",
       "      <th>PlatformDesireNextYear</th>\n",
       "      <th>c1</th>\n",
       "    </tr>\n",
       "  </thead>\n",
       "  <tbody>\n",
       "    <tr>\n",
       "      <th>0</th>\n",
       "      <td>Linux</td>\n",
       "      <td>5865</td>\n",
       "    </tr>\n",
       "    <tr>\n",
       "      <th>1</th>\n",
       "      <td>Docker</td>\n",
       "      <td>5804</td>\n",
       "    </tr>\n",
       "    <tr>\n",
       "      <th>2</th>\n",
       "      <td>AWS</td>\n",
       "      <td>4442</td>\n",
       "    </tr>\n",
       "    <tr>\n",
       "      <th>3</th>\n",
       "      <td>Windows</td>\n",
       "      <td>3888</td>\n",
       "    </tr>\n",
       "    <tr>\n",
       "      <th>4</th>\n",
       "      <td>Android</td>\n",
       "      <td>3231</td>\n",
       "    </tr>\n",
       "  </tbody>\n",
       "</table>\n",
       "</div>"
      ],
      "text/plain": [
       "  PlatformDesireNextYear    c1\n",
       "0                  Linux  5865\n",
       "1                 Docker  5804\n",
       "2                    AWS  4442\n",
       "3                Windows  3888\n",
       "4                Android  3231"
      ]
     },
     "execution_count": 38,
     "metadata": {},
     "output_type": "execute_result"
    }
   ],
   "source": [
    "## Top Languages desire by respondants next year\n",
    "QUERY = \"\"\"\n",
    "SELECT PlatformDesireNextYear, count(*) as c1\n",
    "FROM PlatformDesireNextYear\n",
    "group by PlatformDesireNextYear\n",
    "order by c1 DESC\n",
    "\"\"\"\n",
    "df = pd.read_sql_query(QUERY, conn)\n",
    "df.head()"
   ]
  },
  {
   "cell_type": "markdown",
   "id": "4d8d1412",
   "metadata": {
    "papermill": {
     "duration": 0.027264,
     "end_time": "2023-03-24T23:45:48.885850",
     "exception": false,
     "start_time": "2023-03-24T23:45:48.858586",
     "status": "completed"
    },
    "tags": []
   },
   "source": [
    "### Top 5 Platforms to work with by respondants"
   ]
  },
  {
   "cell_type": "code",
   "execution_count": 39,
   "id": "a7127a6c",
   "metadata": {
    "execution": {
     "iopub.execute_input": "2023-03-24T23:45:48.944137Z",
     "iopub.status.busy": "2023-03-24T23:45:48.942807Z",
     "iopub.status.idle": "2023-03-24T23:45:48.972998Z",
     "shell.execute_reply": "2023-03-24T23:45:48.971856Z"
    },
    "papermill": {
     "duration": 0.062123,
     "end_time": "2023-03-24T23:45:48.975512",
     "exception": false,
     "start_time": "2023-03-24T23:45:48.913389",
     "status": "completed"
    },
    "tags": []
   },
   "outputs": [
    {
     "data": {
      "text/html": [
       "<div>\n",
       "<style scoped>\n",
       "    .dataframe tbody tr th:only-of-type {\n",
       "        vertical-align: middle;\n",
       "    }\n",
       "\n",
       "    .dataframe tbody tr th {\n",
       "        vertical-align: top;\n",
       "    }\n",
       "\n",
       "    .dataframe thead th {\n",
       "        text-align: right;\n",
       "    }\n",
       "</style>\n",
       "<table border=\"1\" class=\"dataframe\">\n",
       "  <thead>\n",
       "    <tr style=\"text-align: right;\">\n",
       "      <th></th>\n",
       "      <th>PlatformWorkedWith</th>\n",
       "      <th>c1</th>\n",
       "    </tr>\n",
       "  </thead>\n",
       "  <tbody>\n",
       "    <tr>\n",
       "      <th>0</th>\n",
       "      <td>Linux</td>\n",
       "      <td>5811</td>\n",
       "    </tr>\n",
       "    <tr>\n",
       "      <th>1</th>\n",
       "      <td>Windows</td>\n",
       "      <td>5563</td>\n",
       "    </tr>\n",
       "    <tr>\n",
       "      <th>2</th>\n",
       "      <td>Docker</td>\n",
       "      <td>4378</td>\n",
       "    </tr>\n",
       "    <tr>\n",
       "      <th>3</th>\n",
       "      <td>AWS</td>\n",
       "      <td>3588</td>\n",
       "    </tr>\n",
       "    <tr>\n",
       "      <th>4</th>\n",
       "      <td>Slack</td>\n",
       "      <td>2786</td>\n",
       "    </tr>\n",
       "  </tbody>\n",
       "</table>\n",
       "</div>"
      ],
      "text/plain": [
       "  PlatformWorkedWith    c1\n",
       "0              Linux  5811\n",
       "1            Windows  5563\n",
       "2             Docker  4378\n",
       "3                AWS  3588\n",
       "4              Slack  2786"
      ]
     },
     "execution_count": 39,
     "metadata": {},
     "output_type": "execute_result"
    }
   ],
   "source": [
    "## Top Languages desire by respondants next year\n",
    "QUERY = \"\"\"\n",
    "SELECT PlatformWorkedWith, count(*) as c1\n",
    "FROM PlatformWorkedWith\n",
    "group by PlatformWorkedWith\n",
    "order by c1 DESC\n",
    "\"\"\"\n",
    "df = pd.read_sql_query(QUERY, conn)\n",
    "df.head()"
   ]
  },
  {
   "cell_type": "markdown",
   "id": "439fac27",
   "metadata": {
    "papermill": {
     "duration": 0.027566,
     "end_time": "2023-03-24T23:45:49.031071",
     "exception": false,
     "start_time": "2023-03-24T23:45:49.003505",
     "status": "completed"
    },
    "tags": []
   },
   "source": [
    "#### Highlight\n",
    "- From the PlatformDesireNextYear data, we can see that the most desired platform is Linux followed closely by Docker and AWS. From the PlatformWorkedWith data, we can see that the most commonly used platform is Linux followed by Windows and Docker."
   ]
  },
  {
   "cell_type": "markdown",
   "id": "4bd4ea84",
   "metadata": {
    "papermill": {
     "duration": 0.029441,
     "end_time": "2023-03-24T23:45:49.088939",
     "exception": false,
     "start_time": "2023-03-24T23:45:49.059498",
     "status": "completed"
    },
    "tags": []
   },
   "source": [
    "### Top 5 Webframes desire by respondants next year"
   ]
  },
  {
   "cell_type": "code",
   "execution_count": 40,
   "id": "64f73c6b",
   "metadata": {
    "execution": {
     "iopub.execute_input": "2023-03-24T23:45:49.148795Z",
     "iopub.status.busy": "2023-03-24T23:45:49.147979Z",
     "iopub.status.idle": "2023-03-24T23:45:49.171520Z",
     "shell.execute_reply": "2023-03-24T23:45:49.170411Z"
    },
    "papermill": {
     "duration": 0.056677,
     "end_time": "2023-03-24T23:45:49.173730",
     "exception": false,
     "start_time": "2023-03-24T23:45:49.117053",
     "status": "completed"
    },
    "tags": []
   },
   "outputs": [
    {
     "data": {
      "text/html": [
       "<div>\n",
       "<style scoped>\n",
       "    .dataframe tbody tr th:only-of-type {\n",
       "        vertical-align: middle;\n",
       "    }\n",
       "\n",
       "    .dataframe tbody tr th {\n",
       "        vertical-align: top;\n",
       "    }\n",
       "\n",
       "    .dataframe thead th {\n",
       "        text-align: right;\n",
       "    }\n",
       "</style>\n",
       "<table border=\"1\" class=\"dataframe\">\n",
       "  <thead>\n",
       "    <tr style=\"text-align: right;\">\n",
       "      <th></th>\n",
       "      <th>WebFrameDesireNextYear</th>\n",
       "      <th>c1</th>\n",
       "    </tr>\n",
       "  </thead>\n",
       "  <tbody>\n",
       "    <tr>\n",
       "      <th>0</th>\n",
       "      <td>React.js</td>\n",
       "      <td>4714</td>\n",
       "    </tr>\n",
       "    <tr>\n",
       "      <th>1</th>\n",
       "      <td>Vue.js</td>\n",
       "      <td>3143</td>\n",
       "    </tr>\n",
       "    <tr>\n",
       "      <th>2</th>\n",
       "      <td>Angular/Angular.js</td>\n",
       "      <td>3059</td>\n",
       "    </tr>\n",
       "    <tr>\n",
       "      <th>3</th>\n",
       "      <td>ASP.NET</td>\n",
       "      <td>2382</td>\n",
       "    </tr>\n",
       "    <tr>\n",
       "      <th>4</th>\n",
       "      <td>jQuery</td>\n",
       "      <td>2241</td>\n",
       "    </tr>\n",
       "  </tbody>\n",
       "</table>\n",
       "</div>"
      ],
      "text/plain": [
       "  WebFrameDesireNextYear    c1\n",
       "0               React.js  4714\n",
       "1                 Vue.js  3143\n",
       "2     Angular/Angular.js  3059\n",
       "3                ASP.NET  2382\n",
       "4                 jQuery  2241"
      ]
     },
     "execution_count": 40,
     "metadata": {},
     "output_type": "execute_result"
    }
   ],
   "source": [
    "## Top Languages desire by respondants next year\n",
    "QUERY = \"\"\"\n",
    "SELECT WebFrameDesireNextYear, count(*) as c1\n",
    "FROM WebFrameDesireNextYear \n",
    "group by WebFrameDesireNextYear \n",
    "order by c1 DESC\n",
    "\"\"\"\n",
    "df = pd.read_sql_query(QUERY, conn)\n",
    "df.head()"
   ]
  },
  {
   "cell_type": "markdown",
   "id": "5d877d06",
   "metadata": {
    "papermill": {
     "duration": 0.027874,
     "end_time": "2023-03-24T23:45:49.229651",
     "exception": false,
     "start_time": "2023-03-24T23:45:49.201777",
     "status": "completed"
    },
    "tags": []
   },
   "source": [
    "### Top 5 Webframes to work with by respondants"
   ]
  },
  {
   "cell_type": "code",
   "execution_count": 41,
   "id": "1da0ce19",
   "metadata": {
    "execution": {
     "iopub.execute_input": "2023-03-24T23:45:49.288895Z",
     "iopub.status.busy": "2023-03-24T23:45:49.288407Z",
     "iopub.status.idle": "2023-03-24T23:45:49.312073Z",
     "shell.execute_reply": "2023-03-24T23:45:49.310735Z"
    },
    "papermill": {
     "duration": 0.056295,
     "end_time": "2023-03-24T23:45:49.314802",
     "exception": false,
     "start_time": "2023-03-24T23:45:49.258507",
     "status": "completed"
    },
    "tags": []
   },
   "outputs": [
    {
     "data": {
      "text/html": [
       "<div>\n",
       "<style scoped>\n",
       "    .dataframe tbody tr th:only-of-type {\n",
       "        vertical-align: middle;\n",
       "    }\n",
       "\n",
       "    .dataframe tbody tr th {\n",
       "        vertical-align: top;\n",
       "    }\n",
       "\n",
       "    .dataframe thead th {\n",
       "        text-align: right;\n",
       "    }\n",
       "</style>\n",
       "<table border=\"1\" class=\"dataframe\">\n",
       "  <thead>\n",
       "    <tr style=\"text-align: right;\">\n",
       "      <th></th>\n",
       "      <th>WebFrameWorkedWith</th>\n",
       "      <th>c1</th>\n",
       "    </tr>\n",
       "  </thead>\n",
       "  <tbody>\n",
       "    <tr>\n",
       "      <th>0</th>\n",
       "      <td>jQuery</td>\n",
       "      <td>4629</td>\n",
       "    </tr>\n",
       "    <tr>\n",
       "      <th>1</th>\n",
       "      <td>Angular/Angular.js</td>\n",
       "      <td>3327</td>\n",
       "    </tr>\n",
       "    <tr>\n",
       "      <th>2</th>\n",
       "      <td>React.js</td>\n",
       "      <td>3302</td>\n",
       "    </tr>\n",
       "    <tr>\n",
       "      <th>3</th>\n",
       "      <td>ASP.NET</td>\n",
       "      <td>3042</td>\n",
       "    </tr>\n",
       "    <tr>\n",
       "      <th>4</th>\n",
       "      <td>Express</td>\n",
       "      <td>2028</td>\n",
       "    </tr>\n",
       "  </tbody>\n",
       "</table>\n",
       "</div>"
      ],
      "text/plain": [
       "   WebFrameWorkedWith    c1\n",
       "0              jQuery  4629\n",
       "1  Angular/Angular.js  3327\n",
       "2            React.js  3302\n",
       "3             ASP.NET  3042\n",
       "4             Express  2028"
      ]
     },
     "execution_count": 41,
     "metadata": {},
     "output_type": "execute_result"
    }
   ],
   "source": [
    "## Top Languages desire by respondants next year\n",
    "QUERY = \"\"\"\n",
    "SELECT WebFrameWorkedWith, count(*) as c1\n",
    "FROM WebFrameWorkedWith\n",
    "group by WebFrameWorkedWith\n",
    "order by c1 DESC\n",
    "\"\"\"\n",
    "df = pd.read_sql_query(QUERY, conn)\n",
    "df.head()"
   ]
  },
  {
   "cell_type": "markdown",
   "id": "67e059e5",
   "metadata": {
    "papermill": {
     "duration": 0.028196,
     "end_time": "2023-03-24T23:45:49.371172",
     "exception": false,
     "start_time": "2023-03-24T23:45:49.342976",
     "status": "completed"
    },
    "tags": []
   },
   "source": [
    "#### Highlights\n",
    "- The top 5 desired web frameworks for next year are React.js, Vue.js, Angular/Angular.js, ASP.NET, and jQuery. The top 5 web frameworks used by respondents are jQuery, Angular/Angular.js, React.js, ASP.NET, and Express.\n",
    "- React.js is the most desired web framework, and it's also in the top 3 used web frameworks.\n",
    "- Angular/Angular.js is also in the top 3 for both desired and used web frameworks.\n",
    "- jQuery is the most used web framework but not as desired as the others."
   ]
  },
  {
   "cell_type": "markdown",
   "id": "cac2da08",
   "metadata": {
    "papermill": {
     "duration": 0.028285,
     "end_time": "2023-03-24T23:45:49.430862",
     "exception": false,
     "start_time": "2023-03-24T23:45:49.402577",
     "status": "completed"
    },
    "tags": []
   },
   "source": [
    "### Respondents Gender"
   ]
  },
  {
   "cell_type": "code",
   "execution_count": 42,
   "id": "2bb2b6df",
   "metadata": {
    "execution": {
     "iopub.execute_input": "2023-03-24T23:45:49.490273Z",
     "iopub.status.busy": "2023-03-24T23:45:49.489142Z",
     "iopub.status.idle": "2023-03-24T23:45:49.651547Z",
     "shell.execute_reply": "2023-03-24T23:45:49.649787Z"
    },
    "papermill": {
     "duration": 0.197689,
     "end_time": "2023-03-24T23:45:49.657001",
     "exception": false,
     "start_time": "2023-03-24T23:45:49.459312",
     "status": "completed"
    },
    "tags": []
   },
   "outputs": [
    {
     "data": {
      "image/png": "[encoded data removed]",
      "text/plain": [
       "<Figure size 640x480 with 1 Axes>"
      ]
     },
     "metadata": {},
     "output_type": "display_data"
    }
   ],
   "source": [
    "## Respondents Gender\n",
    "QUERY = \"\"\"\n",
    "SELECT Gender, count(*) as c1\n",
    "FROM Gender\n",
    "group by Gender\n",
    "order by c1 DESC\n",
    "\"\"\"\n",
    "df = pd.read_sql_query(QUERY, conn)\n",
    "\n",
    "# Create the chart\n",
    "labels = df['Gender']\n",
    "sizes = df['c1']\n",
    "explode = (0, 0, 0.1) # add more values to match the length of labels\n",
    "\n",
    "fig1, ax1 = plt.subplots()\n",
    "ax1.set_title('Respondents Gender', fontsize=16, fontweight='bold')\n",
    "ax1.pie(sizes, explode=explode, labels=labels, autopct='%5.1f%%', shadow=True, startangle=90)\n",
    "ax1.axis('equal')\n",
    "\n",
    "plt.show()"
   ]
  },
  {
   "cell_type": "markdown",
   "id": "6db61790",
   "metadata": {
    "papermill": {
     "duration": 0.028437,
     "end_time": "2023-03-24T23:45:49.751703",
     "exception": false,
     "start_time": "2023-03-24T23:45:49.723266",
     "status": "completed"
    },
    "tags": []
   },
   "source": [
    "#### Hightlight\n",
    "- Out of the total respondents, 92.4% were male, while only 6.6% were female and 0.9% identified as other genders."
   ]
  },
  {
   "cell_type": "markdown",
   "id": "d51944ab",
   "metadata": {
    "papermill": {
     "duration": 0.029963,
     "end_time": "2023-03-24T23:45:49.810712",
     "exception": false,
     "start_time": "2023-03-24T23:45:49.780749",
     "status": "completed"
    },
    "tags": []
   },
   "source": [
    "### Stacked Charts: WorkWeek hours & CodeRevHrs'"
   ]
  },
  {
   "cell_type": "code",
   "execution_count": 43,
   "id": "a0e65243",
   "metadata": {
    "execution": {
     "iopub.execute_input": "2023-03-24T23:45:49.873220Z",
     "iopub.status.busy": "2023-03-24T23:45:49.872449Z",
     "iopub.status.idle": "2023-03-24T23:45:50.155836Z",
     "shell.execute_reply": "2023-03-24T23:45:50.154749Z"
    },
    "papermill": {
     "duration": 0.317308,
     "end_time": "2023-03-24T23:45:50.158462",
     "exception": false,
     "start_time": "2023-03-24T23:45:49.841154",
     "status": "completed"
    },
    "tags": []
   },
   "outputs": [
    {
     "data": {
      "image/png": "[encoded data removed]",
      "text/plain": [
       "<Figure size 640x480 with 1 Axes>"
      ]
     },
     "metadata": {},
     "output_type": "display_data"
    }
   ],
   "source": [
    "# Create a stacked chart of median WorkWeekHrs and CodeRevHrs for the age group 30 to 35.\n",
    "\n",
    "QUERY = \"\"\"\n",
    "SELECT WorkWeekHrs, CodeRevHrs, Age\n",
    "FROM master\n",
    "WHERE age <= 35 AND age >= 30\n",
    "order by age\n",
    "\"\"\"\n",
    "\n",
    "df = pd.read_sql_query(QUERY, conn)\n",
    "\n",
    "l1 = [30,31,32,33,34,35]\n",
    "l2 = []\n",
    "l3 = []\n",
    "\n",
    "for i in l1:\n",
    "    l2.append(df[df['Age']==i]['WorkWeekHrs'].median())\n",
    "    l3.append(df[df['Age']==i]['CodeRevHrs'].median())\n",
    "\n",
    "# Chart\n",
    "labels = l1\n",
    "y1 = l2\n",
    "y2 = l3\n",
    "\n",
    "plt.bar(labels, y1, color='r')\n",
    "plt.bar(labels, y2, bottom=y1, color='b')\n",
    "plt.legend(['WorkWeekHrs', 'CodeRevHrs'])\n",
    "plt.xlabel('Age')\n",
    "plt.ylabel('Hours')\n",
    "plt.title('WorkWeek hours & CodeRevHrs')\n",
    "plt.show()"
   ]
  },
  {
   "cell_type": "markdown",
   "id": "ab6f8d42",
   "metadata": {
    "papermill": {
     "duration": 0.029508,
     "end_time": "2023-03-24T23:45:50.218027",
     "exception": false,
     "start_time": "2023-03-24T23:45:50.188519",
     "status": "completed"
    },
    "tags": []
   },
   "source": [
    "#### Highlight \n",
    "- Respondents between the ages of 30 and 35 spend less than 10 hours per week reviewing code on average\n"
   ]
  },
  {
   "cell_type": "markdown",
   "id": "d878651b",
   "metadata": {
    "papermill": {
     "duration": 0.029386,
     "end_time": "2023-03-24T23:45:50.277033",
     "exception": false,
     "start_time": "2023-03-24T23:45:50.247647",
     "status": "completed"
    },
    "tags": []
   },
   "source": [
    "### Visualizing comparison of data: Normalize Annual Compensation (Median) vs Age (45-60)"
   ]
  },
  {
   "cell_type": "code",
   "execution_count": 44,
   "id": "5267cfb8",
   "metadata": {
    "execution": {
     "iopub.execute_input": "2023-03-24T23:45:50.339804Z",
     "iopub.status.busy": "2023-03-24T23:45:50.338627Z",
     "iopub.status.idle": "2023-03-24T23:45:50.603427Z",
     "shell.execute_reply": "2023-03-24T23:45:50.602259Z"
    },
    "papermill": {
     "duration": 0.299234,
     "end_time": "2023-03-24T23:45:50.606397",
     "exception": false,
     "start_time": "2023-03-24T23:45:50.307163",
     "status": "completed"
    },
    "tags": []
   },
   "outputs": [
    {
     "data": {
      "image/png": "[encoded data removed]",
      "text/plain": [
       "<Figure size 640x480 with 1 Axes>"
      ]
     },
     "metadata": {},
     "output_type": "display_data"
    }
   ],
   "source": [
    "#Line Chart\n",
    "#Plot the median ConvertedComp for all ages from 45 to 60.\n",
    "\n",
    "# your code goes here\n",
    "import matplotlib.pyplot as plt\n",
    "%matplotlib inline\n",
    "\n",
    "QUERY = \"\"\"\n",
    "SELECT ConvertedComp, Age\n",
    "FROM master\n",
    "WHERE age <= 60 AND age >= 45\n",
    "order by age\n",
    "\"\"\"\n",
    "\n",
    "df = pd.read_sql_query(QUERY, conn)\n",
    "\n",
    "l1 = range(45, 60)\n",
    "l2 = []\n",
    "\n",
    "for i in l1:\n",
    "    l2.append(df[df['Age']==i]['ConvertedComp'].median())\n",
    "\n",
    "# Line chart\n",
    "plt.figure()\n",
    "plt.plot(l1, l2)\n",
    "\n",
    "plt.xlabel('Age')\n",
    "plt.ylabel('US$')\n",
    "plt.title('ConvertedComp & Age')\n",
    "plt.grid(True, linestyle='--')\n",
    "\n",
    "plt.show()"
   ]
  },
  {
   "cell_type": "markdown",
   "id": "93dec905",
   "metadata": {
    "papermill": {
     "duration": 0.030966,
     "end_time": "2023-03-24T23:45:50.668191",
     "exception": false,
     "start_time": "2023-03-24T23:45:50.637225",
     "status": "completed"
    },
    "tags": []
   },
   "source": [
    "#### Highlight\n",
    "- There is a postive correlation between median age and normalize compensation between ages 45 and 60"
   ]
  },
  {
   "cell_type": "markdown",
   "id": "dc3a0ccf",
   "metadata": {
    "papermill": {
     "duration": 0.030307,
     "end_time": "2023-03-24T23:45:50.729548",
     "exception": false,
     "start_time": "2023-03-24T23:45:50.699241",
     "status": "completed"
    },
    "tags": []
   },
   "source": [
    "# View the dashboard here\n",
    "https://public.tableau.com/app/profile/ramberto.jr.sosa.cueto/viz/ITJobSurvey/ITJobsSurvey?publish=yes"
   ]
  },
  {
   "cell_type": "markdown",
   "id": "0b6ad89c",
   "metadata": {
    "papermill": {
     "duration": 0.03187,
     "end_time": "2023-03-24T23:45:50.792055",
     "exception": false,
     "start_time": "2023-03-24T23:45:50.760185",
     "status": "completed"
    },
    "tags": []
   },
   "source": []
  },
  {
   "cell_type": "markdown",
   "id": "a5541eb1",
   "metadata": {
    "papermill": {
     "duration": 0.032017,
     "end_time": "2023-03-24T23:45:50.855811",
     "exception": false,
     "start_time": "2023-03-24T23:45:50.823794",
     "status": "completed"
    },
    "tags": []
   },
   "source": [
    "# Conclusion\n",
    "\n",
    "Based on the analysis of the survey data from IT jobs, we can draw several conclusions and make recommendations. Firstly, we found that JavaScript, HTML/CSS, SQL, and Python are the most widely used programming languages among developers. This indicates that these languages should be considered when designing software solutions, as they are likely to be familiar to a large number of developers. Additionally, React.js, Angular/Angular.js, and ASP.NET are the most commonly used web frameworks, and MySQL, PostgreSQL, and MongoDB are the most preferred databases.\n",
    "\n",
    "Secondly, we found that Linux, Docker, and AWS are the most popular platforms among developers. This suggests that these platforms should be considered when developing and deploying software solutions, as they are likely to be compatible with a large number of systems.\n",
    "\n",
    "Thirdly, we analyzed the characteristics of the respondents, including their gender, location, age, and level of formal education. We found that the majority of respondents were male, with a significant number of respondents from the United States, India, and Europe. Additionally, we found that the average age of respondents is around 30-35 years old. These demographic characteristics should be considered when targeting markets and designing training programs.\n",
    "\n",
    "Fourthly, we identified several new trends and technologies that software developers should be aware of, such as the rise of artificial intelligence and machine learning, the increased use of cloud computing, and the growing importance of cybersecurity in software development.\n",
    "\n",
    "Overall, the survey results indicate that the software development field is constantly evolving, with new technologies and trends emerging regularly. As a business, we need to stay on top of these developments to make informed decisions regarding which technologies to invest in, which talents to prioritize in our training programs, and which markets to target with our software solutions.\n",
    "\n",
    "Based on these findings, we recommend that our business should invest in the most widely used programming languages, web frameworks, and databases, as well as platforms that are compatible with a large number of systems. Additionally, we should keep up-to-date with new trends and technologies to ensure that we are providing our clients with the most innovative solutions. Furthermore, we should consider the demographic characteristics of our potential clients when designing our software solutions and training programs."
   ]
  }
 ],
 "metadata": {
  "kernelspec": {
   "display_name": "Python 3",
   "language": "python",
   "name": "python3"
  },
  "language_info": {
   "codemirror_mode": {
    "name": "ipython",
    "version": 3
   },
   "file_extension": ".py",
   "mimetype": "text/x-python",
   "name": "python",
   "nbconvert_exporter": "python",
   "pygments_lexer": "ipython3",
   "version": "3.7.12"
  },
  "papermill": {
   "default_parameters": {},
   "duration": 27.52925,
   "end_time": "2023-03-24T23:45:51.710458",
   "environment_variables": {},
   "exception": null,
   "input_path": "__notebook__.ipynb",
   "output_path": "__notebook__.ipynb",
   "parameters": {},
   "start_time": "2023-03-24T23:45:24.181208",
   "version": "2.4.0"
  }
 },
 "nbformat": 4,
 "nbformat_minor": 5
}
